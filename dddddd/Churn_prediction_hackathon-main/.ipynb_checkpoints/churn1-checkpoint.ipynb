{
 "cells": [
  {
   "cell_type": "code",
   "execution_count": 166,
   "id": "eee1f6c2",
   "metadata": {},
   "outputs": [],
   "source": [
    "import pandas as pd\n",
    "from sklearn.model_selection import train_test_split\n",
    "import matplotlib.pyplot as plt\n",
    "import numpy as np\n",
    "from sklearn.metrics import log_loss, confusion_matrix\n",
    "import seaborn as sns\n",
    "from sklearn.preprocessing import StandardScaler\n",
    "from sklearn.neighbors import KNeighborsClassifier\n",
    "from sklearn.linear_model import SGDClassifier\n",
    "from sklearn.ensemble import RandomForestClassifier\n",
    "from sklearn.model_selection import GridSearchCV\n",
    "from sklearn.metrics import roc_curve, auc , precision_score , classification_report\n",
    "from sklearn.linear_model import LogisticRegression\n",
    "# from xgboost import XGBClassifier\n",
    "from sklearn.tree import DecisionTreeClassifier\n",
    "from sklearn.ensemble import AdaBoostClassifier\n",
    "import warnings\n",
    "warnings.filterwarnings('ignore')\n",
    "import warnings\n",
    "from sklearn.svm import SVC\n",
    "from sklearn.model_selection import KFold\n",
    "from collections import Counter, defaultdict\n",
    "from sklearn.calibration import CalibratedClassifierCV\n",
    "from sklearn.naive_bayes import MultinomialNB\n",
    "from sklearn.naive_bayes import GaussianNB\n",
    "from sklearn.model_selection import train_test_split\n",
    "from sklearn.model_selection import GridSearchCV\n",
    "from sklearn.ensemble import RandomForestClassifier\n",
    "# from mlxtend.classifier import StackingClassifier\n",
    "from sklearn import model_selection\n",
    "from sklearn.linear_model import LogisticRegression"
   ]
  },
  {
   "cell_type": "code",
   "execution_count": 167,
   "id": "5345e09a",
   "metadata": {},
   "outputs": [],
   "source": [
    "df = pd.read_csv('train_PDjVQMB.csv')"
   ]
  },
  {
   "cell_type": "code",
   "execution_count": 168,
   "id": "c1476df7",
   "metadata": {},
   "outputs": [
    {
     "data": {
      "text/html": [
       "<div>\n",
       "<style scoped>\n",
       "    .dataframe tbody tr th:only-of-type {\n",
       "        vertical-align: middle;\n",
       "    }\n",
       "\n",
       "    .dataframe tbody tr th {\n",
       "        vertical-align: top;\n",
       "    }\n",
       "\n",
       "    .dataframe thead th {\n",
       "        text-align: right;\n",
       "    }\n",
       "</style>\n",
       "<table border=\"1\" class=\"dataframe\">\n",
       "  <thead>\n",
       "    <tr style=\"text-align: right;\">\n",
       "      <th></th>\n",
       "      <th>ID</th>\n",
       "      <th>Age</th>\n",
       "      <th>Gender</th>\n",
       "      <th>Income</th>\n",
       "      <th>Balance</th>\n",
       "      <th>Vintage</th>\n",
       "      <th>Transaction_Status</th>\n",
       "      <th>Product_Holdings</th>\n",
       "      <th>Credit_Card</th>\n",
       "      <th>Credit_Category</th>\n",
       "      <th>Is_Churn</th>\n",
       "    </tr>\n",
       "  </thead>\n",
       "  <tbody>\n",
       "    <tr>\n",
       "      <th>0</th>\n",
       "      <td>84e2fcc9</td>\n",
       "      <td>36</td>\n",
       "      <td>Female</td>\n",
       "      <td>5L - 10L</td>\n",
       "      <td>563266.44</td>\n",
       "      <td>4</td>\n",
       "      <td>0</td>\n",
       "      <td>1</td>\n",
       "      <td>0</td>\n",
       "      <td>Average</td>\n",
       "      <td>1</td>\n",
       "    </tr>\n",
       "    <tr>\n",
       "      <th>1</th>\n",
       "      <td>57fea15e</td>\n",
       "      <td>53</td>\n",
       "      <td>Female</td>\n",
       "      <td>Less than 5L</td>\n",
       "      <td>875572.11</td>\n",
       "      <td>2</td>\n",
       "      <td>1</td>\n",
       "      <td>1</td>\n",
       "      <td>1</td>\n",
       "      <td>Poor</td>\n",
       "      <td>0</td>\n",
       "    </tr>\n",
       "    <tr>\n",
       "      <th>2</th>\n",
       "      <td>8df34ef3</td>\n",
       "      <td>35</td>\n",
       "      <td>Female</td>\n",
       "      <td>More than 15L</td>\n",
       "      <td>701607.06</td>\n",
       "      <td>2</td>\n",
       "      <td>1</td>\n",
       "      <td>2</td>\n",
       "      <td>0</td>\n",
       "      <td>Poor</td>\n",
       "      <td>0</td>\n",
       "    </tr>\n",
       "    <tr>\n",
       "      <th>3</th>\n",
       "      <td>c5c0788b</td>\n",
       "      <td>43</td>\n",
       "      <td>Female</td>\n",
       "      <td>More than 15L</td>\n",
       "      <td>1393922.16</td>\n",
       "      <td>0</td>\n",
       "      <td>1</td>\n",
       "      <td>2</td>\n",
       "      <td>1</td>\n",
       "      <td>Poor</td>\n",
       "      <td>1</td>\n",
       "    </tr>\n",
       "    <tr>\n",
       "      <th>4</th>\n",
       "      <td>951d69c4</td>\n",
       "      <td>39</td>\n",
       "      <td>Female</td>\n",
       "      <td>More than 15L</td>\n",
       "      <td>893146.23</td>\n",
       "      <td>1</td>\n",
       "      <td>1</td>\n",
       "      <td>1</td>\n",
       "      <td>1</td>\n",
       "      <td>Good</td>\n",
       "      <td>1</td>\n",
       "    </tr>\n",
       "    <tr>\n",
       "      <th>...</th>\n",
       "      <td>...</td>\n",
       "      <td>...</td>\n",
       "      <td>...</td>\n",
       "      <td>...</td>\n",
       "      <td>...</td>\n",
       "      <td>...</td>\n",
       "      <td>...</td>\n",
       "      <td>...</td>\n",
       "      <td>...</td>\n",
       "      <td>...</td>\n",
       "      <td>...</td>\n",
       "    </tr>\n",
       "    <tr>\n",
       "      <th>6645</th>\n",
       "      <td>a8216afd</td>\n",
       "      <td>61</td>\n",
       "      <td>Male</td>\n",
       "      <td>5L - 10L</td>\n",
       "      <td>1354526.19</td>\n",
       "      <td>4</td>\n",
       "      <td>1</td>\n",
       "      <td>2</td>\n",
       "      <td>1</td>\n",
       "      <td>Poor</td>\n",
       "      <td>1</td>\n",
       "    </tr>\n",
       "    <tr>\n",
       "      <th>6646</th>\n",
       "      <td>153a306b</td>\n",
       "      <td>42</td>\n",
       "      <td>Female</td>\n",
       "      <td>5L - 10L</td>\n",
       "      <td>596286.54</td>\n",
       "      <td>3</td>\n",
       "      <td>1</td>\n",
       "      <td>2</td>\n",
       "      <td>1</td>\n",
       "      <td>Average</td>\n",
       "      <td>0</td>\n",
       "    </tr>\n",
       "    <tr>\n",
       "      <th>6647</th>\n",
       "      <td>d4075a95</td>\n",
       "      <td>29</td>\n",
       "      <td>Male</td>\n",
       "      <td>Less than 5L</td>\n",
       "      <td>979298.19</td>\n",
       "      <td>2</td>\n",
       "      <td>0</td>\n",
       "      <td>2</td>\n",
       "      <td>0</td>\n",
       "      <td>Poor</td>\n",
       "      <td>0</td>\n",
       "    </tr>\n",
       "    <tr>\n",
       "      <th>6648</th>\n",
       "      <td>5855b142</td>\n",
       "      <td>66</td>\n",
       "      <td>Female</td>\n",
       "      <td>10L - 15L</td>\n",
       "      <td>395233.65</td>\n",
       "      <td>3</td>\n",
       "      <td>0</td>\n",
       "      <td>2</td>\n",
       "      <td>1</td>\n",
       "      <td>Poor</td>\n",
       "      <td>1</td>\n",
       "    </tr>\n",
       "    <tr>\n",
       "      <th>6649</th>\n",
       "      <td>57b39511</td>\n",
       "      <td>37</td>\n",
       "      <td>Male</td>\n",
       "      <td>More than 15L</td>\n",
       "      <td>826947.27</td>\n",
       "      <td>1</td>\n",
       "      <td>1</td>\n",
       "      <td>2</td>\n",
       "      <td>0</td>\n",
       "      <td>Good</td>\n",
       "      <td>0</td>\n",
       "    </tr>\n",
       "  </tbody>\n",
       "</table>\n",
       "<p>6650 rows × 11 columns</p>\n",
       "</div>"
      ],
      "text/plain": [
       "            ID  Age  Gender         Income     Balance  Vintage  \\\n",
       "0     84e2fcc9   36  Female       5L - 10L   563266.44        4   \n",
       "1     57fea15e   53  Female   Less than 5L   875572.11        2   \n",
       "2     8df34ef3   35  Female  More than 15L   701607.06        2   \n",
       "3     c5c0788b   43  Female  More than 15L  1393922.16        0   \n",
       "4     951d69c4   39  Female  More than 15L   893146.23        1   \n",
       "...        ...  ...     ...            ...         ...      ...   \n",
       "6645  a8216afd   61    Male       5L - 10L  1354526.19        4   \n",
       "6646  153a306b   42  Female       5L - 10L   596286.54        3   \n",
       "6647  d4075a95   29    Male   Less than 5L   979298.19        2   \n",
       "6648  5855b142   66  Female      10L - 15L   395233.65        3   \n",
       "6649  57b39511   37    Male  More than 15L   826947.27        1   \n",
       "\n",
       "      Transaction_Status Product_Holdings  Credit_Card Credit_Category  \\\n",
       "0                      0                1            0         Average   \n",
       "1                      1                1            1            Poor   \n",
       "2                      1                2            0            Poor   \n",
       "3                      1                2            1            Poor   \n",
       "4                      1                1            1            Good   \n",
       "...                  ...              ...          ...             ...   \n",
       "6645                   1                2            1            Poor   \n",
       "6646                   1                2            1         Average   \n",
       "6647                   0                2            0            Poor   \n",
       "6648                   0                2            1            Poor   \n",
       "6649                   1                2            0            Good   \n",
       "\n",
       "      Is_Churn  \n",
       "0            1  \n",
       "1            0  \n",
       "2            0  \n",
       "3            1  \n",
       "4            1  \n",
       "...        ...  \n",
       "6645         1  \n",
       "6646         0  \n",
       "6647         0  \n",
       "6648         1  \n",
       "6649         0  \n",
       "\n",
       "[6650 rows x 11 columns]"
      ]
     },
     "execution_count": 168,
     "metadata": {},
     "output_type": "execute_result"
    }
   ],
   "source": [
    "df"
   ]
  },
  {
   "cell_type": "code",
   "execution_count": 169,
   "id": "2a5acf83",
   "metadata": {},
   "outputs": [
    {
     "data": {
      "text/plain": [
       "ID                     object\n",
       "Age                     int64\n",
       "Gender                 object\n",
       "Income                 object\n",
       "Balance               float64\n",
       "Vintage                 int64\n",
       "Transaction_Status      int64\n",
       "Product_Holdings       object\n",
       "Credit_Card             int64\n",
       "Credit_Category        object\n",
       "Is_Churn                int64\n",
       "dtype: object"
      ]
     },
     "execution_count": 169,
     "metadata": {},
     "output_type": "execute_result"
    }
   ],
   "source": [
    "df.dtypes"
   ]
  },
  {
   "cell_type": "code",
   "execution_count": 170,
   "id": "b6ca9c69",
   "metadata": {},
   "outputs": [
    {
     "data": {
      "text/plain": [
       "Male      3612\n",
       "Female    3038\n",
       "Name: Gender, dtype: int64"
      ]
     },
     "execution_count": 170,
     "metadata": {},
     "output_type": "execute_result"
    }
   ],
   "source": [
    "df.Gender.value_counts()"
   ]
  },
  {
   "cell_type": "code",
   "execution_count": 171,
   "id": "6fc683d2",
   "metadata": {},
   "outputs": [
    {
     "data": {
      "text/plain": [
       "10L - 15L        1885\n",
       "5L - 10L         1847\n",
       "Less than 5L     1573\n",
       "More than 15L    1345\n",
       "Name: Income, dtype: int64"
      ]
     },
     "execution_count": 171,
     "metadata": {},
     "output_type": "execute_result"
    }
   ],
   "source": [
    "df.Income.value_counts()"
   ]
  },
  {
   "cell_type": "code",
   "execution_count": 172,
   "id": "b3951977",
   "metadata": {},
   "outputs": [
    {
     "data": {
      "text/plain": [
       "Poor       3076\n",
       "Average    2043\n",
       "Good       1531\n",
       "Name: Credit_Category, dtype: int64"
      ]
     },
     "execution_count": 172,
     "metadata": {},
     "output_type": "execute_result"
    }
   ],
   "source": [
    "df.Credit_Category.value_counts()"
   ]
  },
  {
   "cell_type": "code",
   "execution_count": 173,
   "id": "2ee68bca",
   "metadata": {},
   "outputs": [
    {
     "data": {
      "text/plain": [
       "0    5113\n",
       "1    1537\n",
       "Name: Is_Churn, dtype: int64"
      ]
     },
     "execution_count": 173,
     "metadata": {},
     "output_type": "execute_result"
    }
   ],
   "source": [
    "df.Is_Churn.value_counts()"
   ]
  },
  {
   "cell_type": "code",
   "execution_count": null,
   "id": "b4bc1305",
   "metadata": {},
   "outputs": [],
   "source": []
  },
  {
   "cell_type": "code",
   "execution_count": 174,
   "id": "8231e76a",
   "metadata": {},
   "outputs": [
    {
     "data": {
      "text/plain": [
       "1     3200\n",
       "2     3182\n",
       "3+     268\n",
       "Name: Product_Holdings, dtype: int64"
      ]
     },
     "execution_count": 174,
     "metadata": {},
     "output_type": "execute_result"
    }
   ],
   "source": [
    "df.Product_Holdings.value_counts()"
   ]
  },
  {
   "cell_type": "markdown",
   "id": "4295c3b6",
   "metadata": {},
   "source": [
    "# Label Encoding"
   ]
  },
  {
   "cell_type": "code",
   "execution_count": 175,
   "id": "50c05b59",
   "metadata": {},
   "outputs": [
    {
     "data": {
      "text/plain": [
       "array([0, 1])"
      ]
     },
     "execution_count": 175,
     "metadata": {},
     "output_type": "execute_result"
    }
   ],
   "source": [
    "from sklearn.preprocessing import LabelEncoder\n",
    "label_encoder = LabelEncoder()\n",
    "\n",
    "df.Gender= label_encoder.fit_transform(df.Gender)\n",
    " \n",
    "df.Gender.unique()"
   ]
  },
  {
   "cell_type": "code",
   "execution_count": 176,
   "id": "be7be803",
   "metadata": {},
   "outputs": [
    {
     "data": {
      "text/plain": [
       "array([1, 2, 3, 0])"
      ]
     },
     "execution_count": 176,
     "metadata": {},
     "output_type": "execute_result"
    }
   ],
   "source": [
    "\n",
    "df.Income = label_encoder.fit_transform(df.Income)\n",
    " \n",
    "df.Income.unique()"
   ]
  },
  {
   "cell_type": "code",
   "execution_count": 177,
   "id": "21cafaf1",
   "metadata": {},
   "outputs": [
    {
     "data": {
      "text/plain": [
       "array([0, 2, 1])"
      ]
     },
     "execution_count": 177,
     "metadata": {},
     "output_type": "execute_result"
    }
   ],
   "source": [
    "df.Credit_Category = label_encoder.fit_transform(df.Credit_Category)\n",
    " \n",
    "df.Credit_Category.unique()"
   ]
  },
  {
   "cell_type": "code",
   "execution_count": 178,
   "id": "030c3c44",
   "metadata": {},
   "outputs": [
    {
     "data": {
      "text/plain": [
       "array([0, 1, 2])"
      ]
     },
     "execution_count": 178,
     "metadata": {},
     "output_type": "execute_result"
    }
   ],
   "source": [
    "df.Product_Holdings = label_encoder.fit_transform(df.Product_Holdings)\n",
    " \n",
    "df.Product_Holdings.unique()"
   ]
  },
  {
   "cell_type": "code",
   "execution_count": 179,
   "id": "d300aa90",
   "metadata": {},
   "outputs": [
    {
     "data": {
      "text/plain": [
       "array([4, 2, 0, 1, 3, 5], dtype=int64)"
      ]
     },
     "execution_count": 179,
     "metadata": {},
     "output_type": "execute_result"
    }
   ],
   "source": [
    "df.Vintage = label_encoder.fit_transform(df.Vintage)\n",
    " \n",
    "df.Vintage.unique()"
   ]
  },
  {
   "cell_type": "code",
   "execution_count": 180,
   "id": "af4619a7",
   "metadata": {},
   "outputs": [
    {
     "data": {
      "text/html": [
       "<div>\n",
       "<style scoped>\n",
       "    .dataframe tbody tr th:only-of-type {\n",
       "        vertical-align: middle;\n",
       "    }\n",
       "\n",
       "    .dataframe tbody tr th {\n",
       "        vertical-align: top;\n",
       "    }\n",
       "\n",
       "    .dataframe thead th {\n",
       "        text-align: right;\n",
       "    }\n",
       "</style>\n",
       "<table border=\"1\" class=\"dataframe\">\n",
       "  <thead>\n",
       "    <tr style=\"text-align: right;\">\n",
       "      <th></th>\n",
       "      <th>Age</th>\n",
       "      <th>Gender</th>\n",
       "      <th>Income</th>\n",
       "      <th>Balance</th>\n",
       "      <th>Vintage</th>\n",
       "      <th>Transaction_Status</th>\n",
       "      <th>Product_Holdings</th>\n",
       "      <th>Credit_Card</th>\n",
       "      <th>Credit_Category</th>\n",
       "      <th>Is_Churn</th>\n",
       "    </tr>\n",
       "  </thead>\n",
       "  <tbody>\n",
       "    <tr>\n",
       "      <th>0</th>\n",
       "      <td>36</td>\n",
       "      <td>0</td>\n",
       "      <td>1</td>\n",
       "      <td>563266.44</td>\n",
       "      <td>4</td>\n",
       "      <td>0</td>\n",
       "      <td>0</td>\n",
       "      <td>0</td>\n",
       "      <td>0</td>\n",
       "      <td>1</td>\n",
       "    </tr>\n",
       "    <tr>\n",
       "      <th>1</th>\n",
       "      <td>53</td>\n",
       "      <td>0</td>\n",
       "      <td>2</td>\n",
       "      <td>875572.11</td>\n",
       "      <td>2</td>\n",
       "      <td>1</td>\n",
       "      <td>0</td>\n",
       "      <td>1</td>\n",
       "      <td>2</td>\n",
       "      <td>0</td>\n",
       "    </tr>\n",
       "    <tr>\n",
       "      <th>2</th>\n",
       "      <td>35</td>\n",
       "      <td>0</td>\n",
       "      <td>3</td>\n",
       "      <td>701607.06</td>\n",
       "      <td>2</td>\n",
       "      <td>1</td>\n",
       "      <td>1</td>\n",
       "      <td>0</td>\n",
       "      <td>2</td>\n",
       "      <td>0</td>\n",
       "    </tr>\n",
       "    <tr>\n",
       "      <th>3</th>\n",
       "      <td>43</td>\n",
       "      <td>0</td>\n",
       "      <td>3</td>\n",
       "      <td>1393922.16</td>\n",
       "      <td>0</td>\n",
       "      <td>1</td>\n",
       "      <td>1</td>\n",
       "      <td>1</td>\n",
       "      <td>2</td>\n",
       "      <td>1</td>\n",
       "    </tr>\n",
       "    <tr>\n",
       "      <th>4</th>\n",
       "      <td>39</td>\n",
       "      <td>0</td>\n",
       "      <td>3</td>\n",
       "      <td>893146.23</td>\n",
       "      <td>1</td>\n",
       "      <td>1</td>\n",
       "      <td>0</td>\n",
       "      <td>1</td>\n",
       "      <td>1</td>\n",
       "      <td>1</td>\n",
       "    </tr>\n",
       "    <tr>\n",
       "      <th>...</th>\n",
       "      <td>...</td>\n",
       "      <td>...</td>\n",
       "      <td>...</td>\n",
       "      <td>...</td>\n",
       "      <td>...</td>\n",
       "      <td>...</td>\n",
       "      <td>...</td>\n",
       "      <td>...</td>\n",
       "      <td>...</td>\n",
       "      <td>...</td>\n",
       "    </tr>\n",
       "    <tr>\n",
       "      <th>6645</th>\n",
       "      <td>61</td>\n",
       "      <td>1</td>\n",
       "      <td>1</td>\n",
       "      <td>1354526.19</td>\n",
       "      <td>4</td>\n",
       "      <td>1</td>\n",
       "      <td>1</td>\n",
       "      <td>1</td>\n",
       "      <td>2</td>\n",
       "      <td>1</td>\n",
       "    </tr>\n",
       "    <tr>\n",
       "      <th>6646</th>\n",
       "      <td>42</td>\n",
       "      <td>0</td>\n",
       "      <td>1</td>\n",
       "      <td>596286.54</td>\n",
       "      <td>3</td>\n",
       "      <td>1</td>\n",
       "      <td>1</td>\n",
       "      <td>1</td>\n",
       "      <td>0</td>\n",
       "      <td>0</td>\n",
       "    </tr>\n",
       "    <tr>\n",
       "      <th>6647</th>\n",
       "      <td>29</td>\n",
       "      <td>1</td>\n",
       "      <td>2</td>\n",
       "      <td>979298.19</td>\n",
       "      <td>2</td>\n",
       "      <td>0</td>\n",
       "      <td>1</td>\n",
       "      <td>0</td>\n",
       "      <td>2</td>\n",
       "      <td>0</td>\n",
       "    </tr>\n",
       "    <tr>\n",
       "      <th>6648</th>\n",
       "      <td>66</td>\n",
       "      <td>0</td>\n",
       "      <td>0</td>\n",
       "      <td>395233.65</td>\n",
       "      <td>3</td>\n",
       "      <td>0</td>\n",
       "      <td>1</td>\n",
       "      <td>1</td>\n",
       "      <td>2</td>\n",
       "      <td>1</td>\n",
       "    </tr>\n",
       "    <tr>\n",
       "      <th>6649</th>\n",
       "      <td>37</td>\n",
       "      <td>1</td>\n",
       "      <td>3</td>\n",
       "      <td>826947.27</td>\n",
       "      <td>1</td>\n",
       "      <td>1</td>\n",
       "      <td>1</td>\n",
       "      <td>0</td>\n",
       "      <td>1</td>\n",
       "      <td>0</td>\n",
       "    </tr>\n",
       "  </tbody>\n",
       "</table>\n",
       "<p>6650 rows × 10 columns</p>\n",
       "</div>"
      ],
      "text/plain": [
       "      Age  Gender  Income     Balance  Vintage  Transaction_Status  \\\n",
       "0      36       0       1   563266.44        4                   0   \n",
       "1      53       0       2   875572.11        2                   1   \n",
       "2      35       0       3   701607.06        2                   1   \n",
       "3      43       0       3  1393922.16        0                   1   \n",
       "4      39       0       3   893146.23        1                   1   \n",
       "...   ...     ...     ...         ...      ...                 ...   \n",
       "6645   61       1       1  1354526.19        4                   1   \n",
       "6646   42       0       1   596286.54        3                   1   \n",
       "6647   29       1       2   979298.19        2                   0   \n",
       "6648   66       0       0   395233.65        3                   0   \n",
       "6649   37       1       3   826947.27        1                   1   \n",
       "\n",
       "      Product_Holdings  Credit_Card  Credit_Category  Is_Churn  \n",
       "0                    0            0                0         1  \n",
       "1                    0            1                2         0  \n",
       "2                    1            0                2         0  \n",
       "3                    1            1                2         1  \n",
       "4                    0            1                1         1  \n",
       "...                ...          ...              ...       ...  \n",
       "6645                 1            1                2         1  \n",
       "6646                 1            1                0         0  \n",
       "6647                 1            0                2         0  \n",
       "6648                 1            1                2         1  \n",
       "6649                 1            0                1         0  \n",
       "\n",
       "[6650 rows x 10 columns]"
      ]
     },
     "execution_count": 180,
     "metadata": {},
     "output_type": "execute_result"
    }
   ],
   "source": [
    "df =  df.drop('ID',1)\n",
    "df"
   ]
  },
  {
   "cell_type": "code",
   "execution_count": 181,
   "id": "93c5cdb6",
   "metadata": {},
   "outputs": [
    {
     "data": {
      "text/plain": [
       "Age                     int64\n",
       "Gender                  int32\n",
       "Income                  int32\n",
       "Balance               float64\n",
       "Vintage                 int64\n",
       "Transaction_Status      int64\n",
       "Product_Holdings        int32\n",
       "Credit_Card             int64\n",
       "Credit_Category         int32\n",
       "Is_Churn                int64\n",
       "dtype: object"
      ]
     },
     "execution_count": 181,
     "metadata": {},
     "output_type": "execute_result"
    }
   ],
   "source": [
    "df.dtypes"
   ]
  },
  {
   "cell_type": "code",
   "execution_count": 182,
   "id": "26133d53",
   "metadata": {},
   "outputs": [],
   "source": [
    "X = df.drop('Is_Churn',1)\n",
    "Y = df.Is_Churn\n",
    "X_train, X_test, y_train, y_test = train_test_split(X, Y, stratify = Y, test_size = 0.3,random_state=49)"
   ]
  },
  {
   "cell_type": "code",
   "execution_count": 147,
   "id": "9cd3a019",
   "metadata": {},
   "outputs": [],
   "source": [
    "# X = df[['Age','Balance','Vintage','Income']]\n",
    "# Y = df.Is_Churn\n",
    "# X_train, X_test, y_train, y_test = train_test_split(X, Y, stratify = Y, test_size = 0.3,random_state=49)"
   ]
  },
  {
   "cell_type": "code",
   "execution_count": 183,
   "id": "fa3b4de0",
   "metadata": {},
   "outputs": [
    {
     "data": {
      "text/plain": [
       "0    3579\n",
       "1    1076\n",
       "Name: Is_Churn, dtype: int64"
      ]
     },
     "execution_count": 183,
     "metadata": {},
     "output_type": "execute_result"
    }
   ],
   "source": [
    "y_train.value_counts()"
   ]
  },
  {
   "cell_type": "code",
   "execution_count": 184,
   "id": "187c6e4a",
   "metadata": {},
   "outputs": [
    {
     "data": {
      "text/plain": [
       "0    1534\n",
       "1     461\n",
       "Name: Is_Churn, dtype: int64"
      ]
     },
     "execution_count": 184,
     "metadata": {},
     "output_type": "execute_result"
    }
   ],
   "source": [
    "y_test.value_counts()"
   ]
  },
  {
   "cell_type": "code",
   "execution_count": 185,
   "id": "6fff708d",
   "metadata": {},
   "outputs": [
    {
     "data": {
      "text/plain": [
       "['Age',\n",
       " 'Gender',\n",
       " 'Income',\n",
       " 'Balance',\n",
       " 'Vintage',\n",
       " 'Transaction_Status',\n",
       " 'Product_Holdings',\n",
       " 'Credit_Card',\n",
       " 'Credit_Category']"
      ]
     },
     "execution_count": 185,
     "metadata": {},
     "output_type": "execute_result"
    }
   ],
   "source": [
    "cols = list(X_train.columns)\n",
    "cols"
   ]
  },
  {
   "cell_type": "code",
   "execution_count": 186,
   "id": "fd0ce39a",
   "metadata": {},
   "outputs": [],
   "source": [
    "scalar = StandardScaler(with_mean=False)\n",
    "scale_train = pd.DataFrame(scalar.fit_transform(X_train),columns=cols)\n",
    "scale_test = pd.DataFrame(scalar.transform(X_test),columns=cols)"
   ]
  },
  {
   "cell_type": "code",
   "execution_count": 187,
   "id": "ff898b02",
   "metadata": {},
   "outputs": [],
   "source": [
    "import pickle\n",
    "filename = \"scalerr\"\n",
    "pickle.dump(scalar,open(filename,\"wb\"))"
   ]
  },
  {
   "cell_type": "code",
   "execution_count": 203,
   "id": "1514a296",
   "metadata": {},
   "outputs": [],
   "source": [
    "scaler_main = StandardScaler(with_mean=False)\n",
    "scale_all = pd.DataFrame(scalar.fit_transform(X),columns=cols)"
   ]
  },
  {
   "cell_type": "code",
   "execution_count": 204,
   "id": "188c27ba",
   "metadata": {},
   "outputs": [],
   "source": [
    "import pickle\n",
    "filename = \"scale_all\"\n",
    "pickle.dump(scaler_main,open(filename,\"wb\"))"
   ]
  },
  {
   "cell_type": "code",
   "execution_count": 190,
   "id": "c3b17adf",
   "metadata": {},
   "outputs": [
    {
     "data": {
      "text/html": [
       "<div>\n",
       "<style scoped>\n",
       "    .dataframe tbody tr th:only-of-type {\n",
       "        vertical-align: middle;\n",
       "    }\n",
       "\n",
       "    .dataframe tbody tr th {\n",
       "        vertical-align: top;\n",
       "    }\n",
       "\n",
       "    .dataframe thead th {\n",
       "        text-align: right;\n",
       "    }\n",
       "</style>\n",
       "<table border=\"1\" class=\"dataframe\">\n",
       "  <thead>\n",
       "    <tr style=\"text-align: right;\">\n",
       "      <th></th>\n",
       "      <th>Age</th>\n",
       "      <th>Gender</th>\n",
       "      <th>Income</th>\n",
       "      <th>Balance</th>\n",
       "      <th>Vintage</th>\n",
       "      <th>Transaction_Status</th>\n",
       "      <th>Product_Holdings</th>\n",
       "      <th>Credit_Card</th>\n",
       "      <th>Credit_Category</th>\n",
       "    </tr>\n",
       "  </thead>\n",
       "  <tbody>\n",
       "    <tr>\n",
       "      <th>0</th>\n",
       "      <td>4.846559</td>\n",
       "      <td>0.000000</td>\n",
       "      <td>0.000000</td>\n",
       "      <td>2.905392</td>\n",
       "      <td>2.757935</td>\n",
       "      <td>2.002177</td>\n",
       "      <td>0.000000</td>\n",
       "      <td>2.107702</td>\n",
       "      <td>2.312362</td>\n",
       "    </tr>\n",
       "    <tr>\n",
       "      <th>1</th>\n",
       "      <td>4.743441</td>\n",
       "      <td>0.000000</td>\n",
       "      <td>0.000000</td>\n",
       "      <td>1.691616</td>\n",
       "      <td>3.447418</td>\n",
       "      <td>2.002177</td>\n",
       "      <td>0.000000</td>\n",
       "      <td>2.107702</td>\n",
       "      <td>0.000000</td>\n",
       "    </tr>\n",
       "    <tr>\n",
       "      <th>2</th>\n",
       "      <td>5.671505</td>\n",
       "      <td>2.006521</td>\n",
       "      <td>0.000000</td>\n",
       "      <td>0.231751</td>\n",
       "      <td>0.000000</td>\n",
       "      <td>0.000000</td>\n",
       "      <td>1.749357</td>\n",
       "      <td>2.107702</td>\n",
       "      <td>2.312362</td>\n",
       "    </tr>\n",
       "    <tr>\n",
       "      <th>3</th>\n",
       "      <td>4.227849</td>\n",
       "      <td>0.000000</td>\n",
       "      <td>0.000000</td>\n",
       "      <td>1.020055</td>\n",
       "      <td>1.378967</td>\n",
       "      <td>2.002177</td>\n",
       "      <td>0.000000</td>\n",
       "      <td>2.107702</td>\n",
       "      <td>0.000000</td>\n",
       "    </tr>\n",
       "    <tr>\n",
       "      <th>4</th>\n",
       "      <td>3.402903</td>\n",
       "      <td>2.006521</td>\n",
       "      <td>0.000000</td>\n",
       "      <td>2.581366</td>\n",
       "      <td>1.378967</td>\n",
       "      <td>0.000000</td>\n",
       "      <td>1.749357</td>\n",
       "      <td>2.107702</td>\n",
       "      <td>2.312362</td>\n",
       "    </tr>\n",
       "    <tr>\n",
       "      <th>...</th>\n",
       "      <td>...</td>\n",
       "      <td>...</td>\n",
       "      <td>...</td>\n",
       "      <td>...</td>\n",
       "      <td>...</td>\n",
       "      <td>...</td>\n",
       "      <td>...</td>\n",
       "      <td>...</td>\n",
       "      <td>...</td>\n",
       "    </tr>\n",
       "    <tr>\n",
       "      <th>1990</th>\n",
       "      <td>5.259032</td>\n",
       "      <td>2.006521</td>\n",
       "      <td>0.911616</td>\n",
       "      <td>1.857763</td>\n",
       "      <td>2.068451</td>\n",
       "      <td>0.000000</td>\n",
       "      <td>0.000000</td>\n",
       "      <td>2.107702</td>\n",
       "      <td>0.000000</td>\n",
       "    </tr>\n",
       "    <tr>\n",
       "      <th>1991</th>\n",
       "      <td>3.815376</td>\n",
       "      <td>0.000000</td>\n",
       "      <td>1.823232</td>\n",
       "      <td>0.745221</td>\n",
       "      <td>2.757935</td>\n",
       "      <td>2.002177</td>\n",
       "      <td>0.000000</td>\n",
       "      <td>2.107702</td>\n",
       "      <td>2.312362</td>\n",
       "    </tr>\n",
       "    <tr>\n",
       "      <th>1992</th>\n",
       "      <td>4.227849</td>\n",
       "      <td>2.006521</td>\n",
       "      <td>2.734848</td>\n",
       "      <td>0.065786</td>\n",
       "      <td>1.378967</td>\n",
       "      <td>0.000000</td>\n",
       "      <td>1.749357</td>\n",
       "      <td>0.000000</td>\n",
       "      <td>2.312362</td>\n",
       "    </tr>\n",
       "    <tr>\n",
       "      <th>1993</th>\n",
       "      <td>5.155914</td>\n",
       "      <td>0.000000</td>\n",
       "      <td>0.911616</td>\n",
       "      <td>1.673185</td>\n",
       "      <td>0.689484</td>\n",
       "      <td>0.000000</td>\n",
       "      <td>1.749357</td>\n",
       "      <td>0.000000</td>\n",
       "      <td>0.000000</td>\n",
       "    </tr>\n",
       "    <tr>\n",
       "      <th>1994</th>\n",
       "      <td>4.640323</td>\n",
       "      <td>2.006521</td>\n",
       "      <td>0.911616</td>\n",
       "      <td>1.447558</td>\n",
       "      <td>1.378967</td>\n",
       "      <td>0.000000</td>\n",
       "      <td>0.000000</td>\n",
       "      <td>2.107702</td>\n",
       "      <td>2.312362</td>\n",
       "    </tr>\n",
       "  </tbody>\n",
       "</table>\n",
       "<p>1995 rows × 9 columns</p>\n",
       "</div>"
      ],
      "text/plain": [
       "           Age    Gender    Income   Balance   Vintage  Transaction_Status  \\\n",
       "0     4.846559  0.000000  0.000000  2.905392  2.757935            2.002177   \n",
       "1     4.743441  0.000000  0.000000  1.691616  3.447418            2.002177   \n",
       "2     5.671505  2.006521  0.000000  0.231751  0.000000            0.000000   \n",
       "3     4.227849  0.000000  0.000000  1.020055  1.378967            2.002177   \n",
       "4     3.402903  2.006521  0.000000  2.581366  1.378967            0.000000   \n",
       "...        ...       ...       ...       ...       ...                 ...   \n",
       "1990  5.259032  2.006521  0.911616  1.857763  2.068451            0.000000   \n",
       "1991  3.815376  0.000000  1.823232  0.745221  2.757935            2.002177   \n",
       "1992  4.227849  2.006521  2.734848  0.065786  1.378967            0.000000   \n",
       "1993  5.155914  0.000000  0.911616  1.673185  0.689484            0.000000   \n",
       "1994  4.640323  2.006521  0.911616  1.447558  1.378967            0.000000   \n",
       "\n",
       "      Product_Holdings  Credit_Card  Credit_Category  \n",
       "0             0.000000     2.107702         2.312362  \n",
       "1             0.000000     2.107702         0.000000  \n",
       "2             1.749357     2.107702         2.312362  \n",
       "3             0.000000     2.107702         0.000000  \n",
       "4             1.749357     2.107702         2.312362  \n",
       "...                ...          ...              ...  \n",
       "1990          0.000000     2.107702         0.000000  \n",
       "1991          0.000000     2.107702         2.312362  \n",
       "1992          1.749357     0.000000         2.312362  \n",
       "1993          1.749357     0.000000         0.000000  \n",
       "1994          0.000000     2.107702         2.312362  \n",
       "\n",
       "[1995 rows x 9 columns]"
      ]
     },
     "execution_count": 190,
     "metadata": {},
     "output_type": "execute_result"
    }
   ],
   "source": [
    "scale_test"
   ]
  },
  {
   "cell_type": "code",
   "execution_count": 191,
   "id": "b569433e",
   "metadata": {},
   "outputs": [],
   "source": [
    "final_train_res = scale_train\n",
    "final_test_res = scale_test"
   ]
  },
  {
   "cell_type": "code",
   "execution_count": 192,
   "id": "dd72e940",
   "metadata": {},
   "outputs": [],
   "source": [
    "# This function plots the confusion matrices given y_i, y_i_hat.\n",
    "def plot_confusion_matrix(test_y, predict_y):\n",
    "    C = confusion_matrix(test_y, predict_y)\n",
    " \n",
    "    A =(((C.T)/(C.sum(axis=1))).T)\n",
    "\n",
    "    B =(C/C.sum(axis=0))\n",
    "\n",
    "    labels = [0,1]\n",
    "    print(\"-\"*20, \"Confusion matrix\", \"-\"*20)\n",
    "    plt.figure(figsize=(5,3))\n",
    "    sns.heatmap(C, annot=True, cmap=\"YlGnBu\", fmt=\".3f\", xticklabels=labels, yticklabels=labels)\n",
    "    plt.xlabel('Predicted Class')\n",
    "    plt.ylabel('Original Class')\n",
    "    plt.show()\n",
    "\n",
    "    print(\"-\"*20, \"Precision matrix (Columm Sum=1)\", \"-\"*20)\n",
    "    plt.figure(figsize=(5,3))\n",
    "    sns.heatmap(B, annot=True, cmap=\"YlGnBu\", fmt=\".3f\", xticklabels=labels, yticklabels=labels)\n",
    "    plt.xlabel('Predicted Class')\n",
    "    plt.ylabel('Original Class')\n",
    "    plt.show()\n",
    "    \n",
    "    print(\"-\"*20, \"Recall matrix (Row sum=1)\", \"-\"*20)\n",
    "    plt.figure(figsize=(5,3))\n",
    "    sns.heatmap(A, annot=True, cmap=\"YlGnBu\", fmt=\".3f\", xticklabels=labels, yticklabels=labels)\n",
    "    plt.xlabel('Predicted Class')\n",
    "    plt.ylabel('Original Class')\n",
    "    plt.show()"
   ]
  },
  {
   "cell_type": "markdown",
   "id": "70080e2b",
   "metadata": {},
   "source": [
    "# Logistic Regression"
   ]
  },
  {
   "cell_type": "code",
   "execution_count": 193,
   "id": "441af14f",
   "metadata": {},
   "outputs": [],
   "source": [
    "def logit(Xtrain,ytrain):\n",
    "    \"\"\"\n",
    "    Function to find the best hyperparameter\n",
    "    Input : Training Dataset\n",
    "    ---\n",
    "    Output : best hyperparameter\n",
    "    \"\"\"\n",
    "    parameters = [{'C': [10**x for x in range(-4,5)]}]\n",
    "    K =[10**x for x in range(-4,5)]\n",
    "    K = np.log10(K)\n",
    "    \n",
    "    log= LogisticRegression(class_weight = 'balanced')\n",
    "    clf = GridSearchCV(log, parameters, cv=5, scoring='roc_auc',return_train_score=True)\n",
    "    clf.fit(Xtrain, ytrain)\n",
    "\n",
    "    train_auc= clf.cv_results_['mean_train_score']\n",
    "    train_auc_std= clf.cv_results_['std_train_score']\n",
    "    cv_auc = clf.cv_results_['mean_test_score'] \n",
    "    cv_auc_std= clf.cv_results_['std_test_score']\n",
    "    lamb= clf.best_params_\n",
    "    lamb = list(lamb.values())[0]\n",
    "\n",
    "    plt.plot(K, train_auc, label='Train AUC')\n",
    "    # this code is copied from here: https://stackoverflow.com/a/48803361/4084039\n",
    "    plt.gca().fill_between(K,train_auc - train_auc_std,train_auc + train_auc_std,alpha=0.2,color='darkblue')\n",
    "    \n",
    "    plt.plot(K, cv_auc, label='CV AUC')\n",
    "    plt.gca().fill_between(K,cv_auc - cv_auc_std,cv_auc + cv_auc_std,alpha=0.2,color='darkorange')\n",
    "    plt.scatter(K, train_auc, label='Train AUC points')\n",
    "    plt.scatter(K, cv_auc, label='CV AUC points')\n",
    "    plt.grid(True)\n",
    "    plt.legend()\n",
    "    plt.xlabel(\"K: hyperparameter\")\n",
    "    plt.ylabel(\"AUC\")\n",
    "    plt.title(\"ERROR PLOTS\")\n",
    "    plt.show()\n",
    "    return lamb\n",
    "\n",
    "def final_logl2(Xtrain,ytrain,Xtest,ytest,best_c):\n",
    "    \"\"\"\n",
    "    Function to find the model with best hyperparameter\n",
    "    Input : Training data, Test Data and best value of c\n",
    "    ---\n",
    "    Output : best trained model\n",
    "    \"\"\"\n",
    "    logl2 = LogisticRegression(C= best_c,class_weight = 'balanced')\n",
    "    logl2.fit(Xtrain, ytrain)\n",
    "    train_fpr, train_tpr, thresholds = roc_curve(ytrain, logl2.predict_proba(Xtrain)[:,1])\n",
    "    test_fpr, test_tpr, thresholds = roc_curve(ytest, logl2.predict_proba(Xtest)[:,1])\n",
    "    plt.plot(train_fpr, train_tpr, label=\"train AUC =\"+str(auc(train_fpr, train_tpr)))\n",
    "    plt.plot(test_fpr, test_tpr, label=\"test AUC =\"+str(auc(test_fpr, test_tpr)))\n",
    "    plt.legend()\n",
    "    plt.grid(True)\n",
    "    plt.xlabel(\"False Positive Rate\")\n",
    "    plt.ylabel(\"True Positive Rate\")\n",
    "    plt.title(\"ROC Curve\")\n",
    "    plt.plot([0, 1], [0, 1],'r--')\n",
    "    plt.xlim([0, 1])\n",
    "    plt.ylim([0, 1])\n",
    "    plt.show()\n",
    "    return logl2\n"
   ]
  },
  {
   "cell_type": "code",
   "execution_count": 194,
   "id": "70b6fb68",
   "metadata": {},
   "outputs": [
    {
     "data": {
      "image/png": "[encoded data removed]",
      "text/plain": [
       "<Figure size 432x288 with 1 Axes>"
      ]
     },
     "metadata": {
      "needs_background": "light"
     },
     "output_type": "display_data"
    },
    {
     "name": "stdout",
     "output_type": "stream",
     "text": [
      "best c using L2 : 0.0001\n",
      "Wall time: 1.27 s\n"
     ]
    }
   ],
   "source": [
    "%%time\n",
    "best_c_res = logit(final_train_res,y_train)\n",
    "print('best c using L2 :',best_c_res)"
   ]
  },
  {
   "cell_type": "code",
   "execution_count": 195,
   "id": "1169c9c8",
   "metadata": {},
   "outputs": [
    {
     "data": {
      "image/png": "[encoded data removed]",
      "text/plain": [
       "<Figure size 432x288 with 1 Axes>"
      ]
     },
     "metadata": {
      "needs_background": "light"
     },
     "output_type": "display_data"
    },
    {
     "name": "stdout",
     "output_type": "stream",
     "text": [
      "-------------------- Confusion matrix --------------------\n"
     ]
    },
    {
     "data": {
      "image/png": "[encoded data removed]",
      "text/plain": [
       "<Figure size 360x216 with 2 Axes>"
      ]
     },
     "metadata": {
      "needs_background": "light"
     },
     "output_type": "display_data"
    },
    {
     "name": "stdout",
     "output_type": "stream",
     "text": [
      "-------------------- Precision matrix (Columm Sum=1) --------------------\n"
     ]
    },
    {
     "data": {
      "image/png": "[encoded data removed]",
      "text/plain": [
       "<Figure size 360x216 with 2 Axes>"
      ]
     },
     "metadata": {
      "needs_background": "light"
     },
     "output_type": "display_data"
    },
    {
     "name": "stdout",
     "output_type": "stream",
     "text": [
      "-------------------- Recall matrix (Row sum=1) --------------------\n"
     ]
    },
    {
     "data": {
      "image/png": "[encoded data removed]",
      "text/plain": [
       "<Figure size 360x216 with 2 Axes>"
      ]
     },
     "metadata": {
      "needs_background": "light"
     },
     "output_type": "display_data"
    }
   ],
   "source": [
    "log_model_res= final_logl2(final_train_res,y_train,final_test_res, y_test,best_c_res)\n",
    "plot_confusion_matrix(y_test,log_model_res.predict(final_test_res))"
   ]
  },
  {
   "cell_type": "code",
   "execution_count": 196,
   "id": "2112f889",
   "metadata": {},
   "outputs": [
    {
     "data": {
      "image/png": "[encoded data removed]",
      "text/plain": [
       "<Figure size 432x288 with 1 Axes>"
      ]
     },
     "metadata": {
      "needs_background": "light"
     },
     "output_type": "display_data"
    },
    {
     "name": "stdout",
     "output_type": "stream",
     "text": [
      "-------------------- Confusion matrix --------------------\n"
     ]
    },
    {
     "data": {
      "image/png": "[encoded data removed]",
      "text/plain": [
       "<Figure size 360x216 with 2 Axes>"
      ]
     },
     "metadata": {
      "needs_background": "light"
     },
     "output_type": "display_data"
    },
    {
     "name": "stdout",
     "output_type": "stream",
     "text": [
      "-------------------- Precision matrix (Columm Sum=1) --------------------\n"
     ]
    },
    {
     "data": {
      "image/png": "[encoded data removed]",
      "text/plain": [
       "<Figure size 360x216 with 2 Axes>"
      ]
     },
     "metadata": {
      "needs_background": "light"
     },
     "output_type": "display_data"
    },
    {
     "name": "stdout",
     "output_type": "stream",
     "text": [
      "-------------------- Recall matrix (Row sum=1) --------------------\n"
     ]
    },
    {
     "data": {
      "image/png": "[encoded data removed]",
      "text/plain": [
       "<Figure size 360x216 with 2 Axes>"
      ]
     },
     "metadata": {
      "needs_background": "light"
     },
     "output_type": "display_data"
    }
   ],
   "source": [
    "log_model_res= final_logl2(final_train_res,y_train,final_test_res, y_test,best_c_res)\n",
    "plot_confusion_matrix(y_test,log_model_res.predict(final_test_res))"
   ]
  },
  {
   "cell_type": "code",
   "execution_count": 197,
   "id": "c0eb775a",
   "metadata": {},
   "outputs": [],
   "source": [
    "import pickle\n",
    "filename = \"logistic.sav\"\n",
    "pickle.dump(log_model_res, open(filename, 'wb'))"
   ]
  },
  {
   "cell_type": "code",
   "execution_count": 198,
   "id": "3d0724a3",
   "metadata": {},
   "outputs": [],
   "source": [
    "# predict probabilities\n",
    "yhat = log_model_res.predict_proba(final_train_res)\n",
    "probs = yhat[:, 1]"
   ]
  },
  {
   "cell_type": "code",
   "execution_count": 199,
   "id": "2e505d0b",
   "metadata": {},
   "outputs": [],
   "source": [
    "# apply threshold to positive probabilities to create labels\n",
    "def to_labels(pos_probs, threshold):\n",
    "    return (pos_probs >= threshold).astype('int')"
   ]
  },
  {
   "cell_type": "code",
   "execution_count": 200,
   "id": "76ff9564",
   "metadata": {},
   "outputs": [
    {
     "name": "stdout",
     "output_type": "stream",
     "text": [
      "Threshold=0.505, F-Score=0.59332\n"
     ]
    }
   ],
   "source": [
    "import numpy as np\n",
    "from sklearn.metrics import f1_score\n",
    "thresholds = np.arange(0, 1, 0.001)\n",
    "scores = [f1_score(y_train, to_labels(probs, t),average='macro') for t in thresholds]\n",
    "# get best threshold\n",
    "ix = np.argmax(scores)\n",
    "print('Threshold=%.3f, F-Score=%.5f' % (thresholds[ix], scores[ix]))"
   ]
  },
  {
   "cell_type": "markdown",
   "id": "c63f6eb9",
   "metadata": {},
   "source": [
    "# test"
   ]
  },
  {
   "cell_type": "code",
   "execution_count": 201,
   "id": "f1826f92",
   "metadata": {},
   "outputs": [],
   "source": [
    "# predict probabilities\n",
    "yhat = log_model_res.predict_proba(final_test_res)\n",
    "probs = yhat[:, 1]"
   ]
  },
  {
   "cell_type": "code",
   "execution_count": 202,
   "id": "6344cf53",
   "metadata": {},
   "outputs": [
    {
     "name": "stdout",
     "output_type": "stream",
     "text": [
      "Threshold=0.509, F-Score=0.58929\n"
     ]
    }
   ],
   "source": [
    "import numpy as np\n",
    "from sklearn.metrics import f1_score\n",
    "thresholds = np.arange(0, 1, 0.001)\n",
    "scores = [f1_score(y_test, to_labels(probs, t),average='macro') for t in thresholds]\n",
    "# get best threshold\n",
    "ix = np.argmax(scores)\n",
    "print('Threshold=%.3f, F-Score=%.5f' % (thresholds[ix], scores[ix]))"
   ]
  },
  {
   "cell_type": "markdown",
   "id": "b31059ff",
   "metadata": {},
   "source": [
    "# ALL DATA"
   ]
  },
  {
   "cell_type": "code",
   "execution_count": 208,
   "id": "b079d0c3",
   "metadata": {},
   "outputs": [
    {
     "data": {
      "text/plain": [
       "LogisticRegression(C=0.0001, class_weight='balanced')"
      ]
     },
     "execution_count": 208,
     "metadata": {},
     "output_type": "execute_result"
    }
   ],
   "source": [
    "log_reg_final = LogisticRegression(C= 0.0001,class_weight = 'balanced', penalty = \"l2\")\n",
    "log_reg_final"
   ]
  },
  {
   "cell_type": "code",
   "execution_count": 210,
   "id": "09730b75",
   "metadata": {},
   "outputs": [
    {
     "data": {
      "text/plain": [
       "LogisticRegression(C=0.0001, class_weight='balanced')"
      ]
     },
     "execution_count": 210,
     "metadata": {},
     "output_type": "execute_result"
    }
   ],
   "source": [
    "log_reg_final.fit(scale_all,Y)"
   ]
  },
  {
   "cell_type": "code",
   "execution_count": 211,
   "id": "c14ef5d6",
   "metadata": {},
   "outputs": [],
   "source": [
    "# predict probabilities\n",
    "yhat = log_reg_final.predict_proba(scale_all)\n",
    "probs = yhat[:, 1]"
   ]
  },
  {
   "cell_type": "code",
   "execution_count": 213,
   "id": "0faca816",
   "metadata": {},
   "outputs": [
    {
     "name": "stdout",
     "output_type": "stream",
     "text": [
      "Threshold=0.512, F-Score=0.59518\n"
     ]
    }
   ],
   "source": [
    "import numpy as np\n",
    "from sklearn.metrics import f1_score\n",
    "thresholds = np.arange(0, 1, 0.001)\n",
    "scores = [f1_score(Y, to_labels(probs, t),average='macro') for t in thresholds]\n",
    "# get best threshold\n",
    "ix = np.argmax(scores)\n",
    "print('Threshold=%.3f, F-Score=%.5f' % (thresholds[ix], scores[ix]))"
   ]
  },
  {
   "cell_type": "code",
   "execution_count": 214,
   "id": "8f166282",
   "metadata": {},
   "outputs": [],
   "source": [
    "import pickle\n",
    "filename = \"logistic_final.sav\"\n",
    "pickle.dump(log_reg_final, open(filename, 'wb'))"
   ]
  },
  {
   "cell_type": "markdown",
   "id": "dc811f96",
   "metadata": {},
   "source": [
    "# RF\n"
   ]
  },
  {
   "cell_type": "code",
   "execution_count": 77,
   "id": "da59d54f",
   "metadata": {},
   "outputs": [],
   "source": [
    "def best_RF(Xtrain,ytrain):\n",
    "    \"\"\"\n",
    "    Function to find the best hyperparameter of random forest\n",
    "    Returns : best depth and best number of models\n",
    "    ---\n",
    "    Input : Training dataset\n",
    "    \"\"\"\n",
    "    # https://scikit-learn.org/stable/modules/generated/sklearn.model_selection.GridSearchCV.html\n",
    "    max_depth = [230,250,280,300]\n",
    "    n_models = [150,170,200,230,260]\n",
    "    parameters = {'max_depth':  max_depth, 'n_estimators' :n_models}\n",
    "    clftree = RandomForestClassifier(class_weight='balanced')\n",
    "    clf = GridSearchCV(clftree,parameters,cv=5, scoring='roc_auc',return_train_score=True)\n",
    "    clf.fit(Xtrain,ytrain)\n",
    "    tab = pd.DataFrame(clf.cv_results_)\n",
    "    import seaborn as sns\n",
    "    plt.figure(figsize=(15, 8))\n",
    "    max_scores = tab.groupby(['param_max_depth','param_n_estimators']).max()\n",
    "    max_scores = max_scores.unstack()[['mean_test_score', 'mean_train_score']]\n",
    "    sns.heatmap(max_scores.mean_test_score, annot=True, fmt='.4g')\n",
    "    plt.title('Grid Search CV Score on Train and Test Data')\n",
    "    plt.show()\n",
    "    best_parameter= clf.best_params_\n",
    "    print('Best depth: ', clf.best_estimator_.max_depth)\n",
    "    print('Best n estimators: ', clf.best_estimator_.n_estimators)\n",
    "    return clf.best_estimator_.max_depth, clf.best_estimator_.n_estimators\n",
    "\n",
    "def final_RF( Xtrain ,ytrain ,Xtest ,ytest , param1 , param2):\n",
    "    \"\"\"\n",
    "    Returns : threshold values, False positive rate , True positive rate and the trained model\n",
    "    ---\n",
    "    Input : Train dataset, Test Dataset , best parameters\n",
    "    \"\"\"\n",
    "    clftre = RandomForestClassifier(class_weight='balanced',n_estimators=param1, max_depth=param2,criterion='entropy',min_samples_leaf=3)\n",
    "    clftre.fit(Xtrain,ytrain)\n",
    "    # roc_auc_score(y_true, y_score) the 2nd parameter should be probability estimates of the positive class\n",
    "    # not the predicted outputs\n",
    "    train_fpr, train_tpr, thresholds = roc_curve(ytrain, clftre.predict_proba(Xtrain)[:,1])\n",
    "    test_fpr, test_tpr, thresholds = roc_curve(ytest, clftre.predict_proba(Xtest)[:,1])\n",
    "    \n",
    "    plt.plot(train_fpr, train_tpr, label=\"train AUC =\"+str(auc(train_fpr, train_tpr)))\n",
    "    plt.plot(test_fpr, test_tpr, label=\"test AUC =\"+str(auc(test_fpr, test_tpr)))\n",
    "    plt.legend()\n",
    "    plt.grid(True)\n",
    "    plt.xlabel(\"False Positive Rate\")\n",
    "    plt.ylabel(\"True Positive Rate\")\n",
    "    plt.title(\"ROC Curve\")\n",
    "    plt.plot([0, 1], [0, 1],'r--')\n",
    "    plt.xlim([0, 1])\n",
    "    plt.ylim([0, 1])\n",
    "    plt.show()\n",
    "    return  clftre"
   ]
  },
  {
   "cell_type": "code",
   "execution_count": 78,
   "id": "8893d2c0",
   "metadata": {},
   "outputs": [
    {
     "data": {
      "image/png": "[encoded data removed]",
      "text/plain": [
       "<Figure size 1080x576 with 2 Axes>"
      ]
     },
     "metadata": {
      "needs_background": "light"
     },
     "output_type": "display_data"
    },
    {
     "name": "stdout",
     "output_type": "stream",
     "text": [
      "Best depth:  250\n",
      "Best n estimators:  260\n",
      "Wall time: 1min 19s\n"
     ]
    }
   ],
   "source": [
    "%%time\n",
    "best_depth_rf_res, best_samle_split_rf_res = best_RF(final_train_res,y_train)"
   ]
  },
  {
   "cell_type": "code",
   "execution_count": 79,
   "id": "79c97df6",
   "metadata": {},
   "outputs": [
    {
     "data": {
      "image/png": "[encoded data removed]",
      "text/plain": [
       "<Figure size 432x288 with 1 Axes>"
      ]
     },
     "metadata": {
      "needs_background": "light"
     },
     "output_type": "display_data"
    },
    {
     "name": "stdout",
     "output_type": "stream",
     "text": [
      "-------------------- Confusion matrix --------------------\n"
     ]
    },
    {
     "data": {
      "image/png": "[encoded data removed]",
      "text/plain": [
       "<Figure size 360x216 with 2 Axes>"
      ]
     },
     "metadata": {
      "needs_background": "light"
     },
     "output_type": "display_data"
    },
    {
     "name": "stdout",
     "output_type": "stream",
     "text": [
      "-------------------- Precision matrix (Columm Sum=1) --------------------\n"
     ]
    },
    {
     "data": {
      "image/png": "[encoded data removed]",
      "text/plain": [
       "<Figure size 360x216 with 2 Axes>"
      ]
     },
     "metadata": {
      "needs_background": "light"
     },
     "output_type": "display_data"
    },
    {
     "name": "stdout",
     "output_type": "stream",
     "text": [
      "-------------------- Recall matrix (Row sum=1) --------------------\n"
     ]
    },
    {
     "data": {
      "image/png": "[encoded data removed]",
      "text/plain": [
       "<Figure size 360x216 with 2 Axes>"
      ]
     },
     "metadata": {
      "needs_background": "light"
     },
     "output_type": "display_data"
    }
   ],
   "source": [
    "rf_res= final_RF(final_train_res,y_train, final_test_res, y_test,best_samle_split_rf_res,best_depth_rf_res)\n",
    "plot_confusion_matrix(y_test,rf_res.predict(final_test_res))"
   ]
  },
  {
   "cell_type": "code",
   "execution_count": 76,
   "id": "d4a8d7e6",
   "metadata": {},
   "outputs": [
    {
     "data": {
      "image/png": "[encoded data removed]",
      "text/plain": [
       "<Figure size 432x288 with 1 Axes>"
      ]
     },
     "metadata": {
      "needs_background": "light"
     },
     "output_type": "display_data"
    },
    {
     "name": "stdout",
     "output_type": "stream",
     "text": [
      "-------------------- Confusion matrix --------------------\n"
     ]
    },
    {
     "data": {
      "image/png": "[encoded data removed]",
      "text/plain": [
       "<Figure size 360x216 with 2 Axes>"
      ]
     },
     "metadata": {
      "needs_background": "light"
     },
     "output_type": "display_data"
    },
    {
     "name": "stdout",
     "output_type": "stream",
     "text": [
      "-------------------- Precision matrix (Columm Sum=1) --------------------\n"
     ]
    },
    {
     "data": {
      "image/png": "[encoded data removed]",
      "text/plain": [
       "<Figure size 360x216 with 2 Axes>"
      ]
     },
     "metadata": {
      "needs_background": "light"
     },
     "output_type": "display_data"
    },
    {
     "name": "stdout",
     "output_type": "stream",
     "text": [
      "-------------------- Recall matrix (Row sum=1) --------------------\n"
     ]
    },
    {
     "data": {
      "image/png": "[encoded data removed]",
      "text/plain": [
       "<Figure size 360x216 with 2 Axes>"
      ]
     },
     "metadata": {
      "needs_background": "light"
     },
     "output_type": "display_data"
    }
   ],
   "source": [
    "rf_res= final_RF(final_train_res,y_train, final_test_res, y_test,best_samle_split_rf_res,best_depth_rf_res)\n",
    "plot_confusion_matrix(y_test,rf_res.predict(final_test_res))"
   ]
  },
  {
   "cell_type": "code",
   "execution_count": 80,
   "id": "8c9188e5",
   "metadata": {},
   "outputs": [
    {
     "data": {
      "text/html": [
       "<div>\n",
       "<style scoped>\n",
       "    .dataframe tbody tr th:only-of-type {\n",
       "        vertical-align: middle;\n",
       "    }\n",
       "\n",
       "    .dataframe tbody tr th {\n",
       "        vertical-align: top;\n",
       "    }\n",
       "\n",
       "    .dataframe thead th {\n",
       "        text-align: right;\n",
       "    }\n",
       "</style>\n",
       "<table border=\"1\" class=\"dataframe\">\n",
       "  <thead>\n",
       "    <tr style=\"text-align: right;\">\n",
       "      <th></th>\n",
       "      <th>0</th>\n",
       "    </tr>\n",
       "  </thead>\n",
       "  <tbody>\n",
       "    <tr>\n",
       "      <th>Transaction_Status</th>\n",
       "      <td>0.027516</td>\n",
       "    </tr>\n",
       "    <tr>\n",
       "      <th>Gender</th>\n",
       "      <td>0.030246</td>\n",
       "    </tr>\n",
       "    <tr>\n",
       "      <th>Credit_Card</th>\n",
       "      <td>0.035909</td>\n",
       "    </tr>\n",
       "    <tr>\n",
       "      <th>Product_Holdings</th>\n",
       "      <td>0.045924</td>\n",
       "    </tr>\n",
       "    <tr>\n",
       "      <th>Credit_Category</th>\n",
       "      <td>0.062932</td>\n",
       "    </tr>\n",
       "    <tr>\n",
       "      <th>Income</th>\n",
       "      <td>0.085968</td>\n",
       "    </tr>\n",
       "    <tr>\n",
       "      <th>Vintage</th>\n",
       "      <td>0.107022</td>\n",
       "    </tr>\n",
       "    <tr>\n",
       "      <th>Age</th>\n",
       "      <td>0.286979</td>\n",
       "    </tr>\n",
       "    <tr>\n",
       "      <th>Balance</th>\n",
       "      <td>0.317503</td>\n",
       "    </tr>\n",
       "  </tbody>\n",
       "</table>\n",
       "</div>"
      ],
      "text/plain": [
       "                           0\n",
       "Transaction_Status  0.027516\n",
       "Gender              0.030246\n",
       "Credit_Card         0.035909\n",
       "Product_Holdings    0.045924\n",
       "Credit_Category     0.062932\n",
       "Income              0.085968\n",
       "Vintage             0.107022\n",
       "Age                 0.286979\n",
       "Balance             0.317503"
      ]
     },
     "execution_count": 80,
     "metadata": {},
     "output_type": "execute_result"
    }
   ],
   "source": [
    "col_name = final_test_res.columns.tolist()\n",
    "feature_rf_res= rf_res.feature_importances_.tolist()\n",
    "RF_res_feature = pd.DataFrame(feature_rf_res,col_name)\n",
    "RF_res_feature = RF_res_feature.sort_values(by =[0])\n",
    "RF_res_feature"
   ]
  },
  {
   "cell_type": "code",
   "execution_count": null,
   "id": "f230df73",
   "metadata": {},
   "outputs": [],
   "source": []
  }
 ],
 "metadata": {
  "kernelspec": {
   "display_name": "Python 3 (ipykernel)",
   "language": "python",
   "name": "python3"
  },
  "language_info": {
   "codemirror_mode": {
    "name": "ipython",
    "version": 3
   },
   "file_extension": ".py",
   "mimetype": "text/x-python",
   "name": "python",
   "nbconvert_exporter": "python",
   "pygments_lexer": "ipython3",
   "version": "3.9.1"
  }
 },
 "nbformat": 4,
 "nbformat_minor": 5
}
