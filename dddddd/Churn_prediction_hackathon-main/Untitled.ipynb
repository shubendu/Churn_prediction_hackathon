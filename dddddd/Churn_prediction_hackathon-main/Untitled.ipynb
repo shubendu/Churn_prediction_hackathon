{
 "cells": [
  {
   "cell_type": "code",
   "execution_count": 1,
   "id": "a24e6ac0",
   "metadata": {},
   "outputs": [],
   "source": [
    "import pandas as pd\n",
    "from sklearn.model_selection import train_test_split\n",
    "import matplotlib.pyplot as plt\n",
    "import numpy as np\n",
    "from sklearn.metrics import log_loss, confusion_matrix\n",
    "import seaborn as sns\n",
    "from sklearn.preprocessing import StandardScaler\n",
    "from sklearn.neighbors import KNeighborsClassifier\n",
    "from sklearn.linear_model import SGDClassifier\n",
    "from sklearn.ensemble import RandomForestClassifier\n",
    "from sklearn.model_selection import GridSearchCV\n",
    "from sklearn.metrics import roc_curve, auc , precision_score , classification_report\n",
    "from sklearn.linear_model import LogisticRegression\n",
    "# from xgboost import XGBClassifier\n",
    "from sklearn.tree import DecisionTreeClassifier\n",
    "from sklearn.ensemble import AdaBoostClassifier\n",
    "import warnings\n",
    "warnings.filterwarnings('ignore')\n",
    "import warnings\n",
    "from sklearn.svm import SVC\n",
    "from sklearn.model_selection import KFold\n",
    "from collections import Counter, defaultdict\n",
    "from sklearn.calibration import CalibratedClassifierCV\n",
    "from sklearn.naive_bayes import MultinomialNB\n",
    "from sklearn.naive_bayes import GaussianNB\n",
    "from sklearn.model_selection import train_test_split\n",
    "from sklearn.model_selection import GridSearchCV\n",
    "from sklearn.ensemble import RandomForestClassifier\n",
    "# from mlxtend.classifier import StackingClassifier\n",
    "from sklearn import model_selection\n",
    "from sklearn.linear_model import LogisticRegression"
   ]
  },
  {
   "cell_type": "code",
   "execution_count": 2,
   "id": "4b17a6a7",
   "metadata": {},
   "outputs": [],
   "source": [
    "df = pd.read_csv('train_PDjVQMB.csv')\n"
   ]
  },
  {
   "cell_type": "code",
   "execution_count": 4,
   "id": "c59b791c",
   "metadata": {},
   "outputs": [],
   "source": [
    "y_true = df['Is_Churn'].values\n",
    "result = df"
   ]
  },
  {
   "cell_type": "code",
   "execution_count": 5,
   "id": "97a51c9e",
   "metadata": {},
   "outputs": [],
   "source": [
    "#Response Coding\n",
    "def get_fea_dict(alpha, feature, df):\n",
    "\n",
    "    value_count = train_df[feature].value_counts()\n",
    "    gv_dict = dict()\n",
    "    for i, denominator in value_count.items():\n",
    "        vec = []\n",
    "        for k in range(0,2):\n",
    "            cls_cnt = train_df.loc[(train_df['Is_Churn']==k) & (train_df[feature]==i)]\n",
    "            vec.append((cls_cnt.shape[0] + alpha*10)/ (denominator + 20*alpha))\n",
    "        gv_dict[i]=vec\n",
    "    return gv_dict\n",
    "\n",
    "def get_gv_feature(alpha, feature, df):\n",
    "    gv_dict = get_fea_dict(alpha, feature, df)\n",
    "    value_count = train_df[feature].value_counts()\n",
    "    \n",
    "    gv_fea = []\n",
    "    for index, row in df.iterrows():\n",
    "        if row[feature] in dict(value_count).keys():\n",
    "            gv_fea.append(gv_dict[row[feature]])\n",
    "        else:\n",
    "            gv_fea.append([1/2,1/2])\n",
    "    return gv_fea"
   ]
  },
  {
   "cell_type": "code",
   "execution_count": 6,
   "id": "f8d73a7f",
   "metadata": {},
   "outputs": [
    {
     "data": {
      "text/html": [
       "<div>\n",
       "<style scoped>\n",
       "    .dataframe tbody tr th:only-of-type {\n",
       "        vertical-align: middle;\n",
       "    }\n",
       "\n",
       "    .dataframe tbody tr th {\n",
       "        vertical-align: top;\n",
       "    }\n",
       "\n",
       "    .dataframe thead th {\n",
       "        text-align: right;\n",
       "    }\n",
       "</style>\n",
       "<table border=\"1\" class=\"dataframe\">\n",
       "  <thead>\n",
       "    <tr style=\"text-align: right;\">\n",
       "      <th></th>\n",
       "      <th>ID</th>\n",
       "      <th>Age</th>\n",
       "      <th>Gender</th>\n",
       "      <th>Income</th>\n",
       "      <th>Balance</th>\n",
       "      <th>Vintage</th>\n",
       "      <th>Transaction_Status</th>\n",
       "      <th>Product_Holdings</th>\n",
       "      <th>Credit_Card</th>\n",
       "      <th>Credit_Category</th>\n",
       "      <th>Is_Churn</th>\n",
       "    </tr>\n",
       "  </thead>\n",
       "  <tbody>\n",
       "    <tr>\n",
       "      <th>0</th>\n",
       "      <td>84e2fcc9</td>\n",
       "      <td>36</td>\n",
       "      <td>Female</td>\n",
       "      <td>5L - 10L</td>\n",
       "      <td>563266.44</td>\n",
       "      <td>4</td>\n",
       "      <td>0</td>\n",
       "      <td>1</td>\n",
       "      <td>0</td>\n",
       "      <td>Average</td>\n",
       "      <td>1</td>\n",
       "    </tr>\n",
       "    <tr>\n",
       "      <th>1</th>\n",
       "      <td>57fea15e</td>\n",
       "      <td>53</td>\n",
       "      <td>Female</td>\n",
       "      <td>Less than 5L</td>\n",
       "      <td>875572.11</td>\n",
       "      <td>2</td>\n",
       "      <td>1</td>\n",
       "      <td>1</td>\n",
       "      <td>1</td>\n",
       "      <td>Poor</td>\n",
       "      <td>0</td>\n",
       "    </tr>\n",
       "    <tr>\n",
       "      <th>2</th>\n",
       "      <td>8df34ef3</td>\n",
       "      <td>35</td>\n",
       "      <td>Female</td>\n",
       "      <td>More than 15L</td>\n",
       "      <td>701607.06</td>\n",
       "      <td>2</td>\n",
       "      <td>1</td>\n",
       "      <td>2</td>\n",
       "      <td>0</td>\n",
       "      <td>Poor</td>\n",
       "      <td>0</td>\n",
       "    </tr>\n",
       "    <tr>\n",
       "      <th>3</th>\n",
       "      <td>c5c0788b</td>\n",
       "      <td>43</td>\n",
       "      <td>Female</td>\n",
       "      <td>More than 15L</td>\n",
       "      <td>1393922.16</td>\n",
       "      <td>0</td>\n",
       "      <td>1</td>\n",
       "      <td>2</td>\n",
       "      <td>1</td>\n",
       "      <td>Poor</td>\n",
       "      <td>1</td>\n",
       "    </tr>\n",
       "    <tr>\n",
       "      <th>4</th>\n",
       "      <td>951d69c4</td>\n",
       "      <td>39</td>\n",
       "      <td>Female</td>\n",
       "      <td>More than 15L</td>\n",
       "      <td>893146.23</td>\n",
       "      <td>1</td>\n",
       "      <td>1</td>\n",
       "      <td>1</td>\n",
       "      <td>1</td>\n",
       "      <td>Good</td>\n",
       "      <td>1</td>\n",
       "    </tr>\n",
       "    <tr>\n",
       "      <th>...</th>\n",
       "      <td>...</td>\n",
       "      <td>...</td>\n",
       "      <td>...</td>\n",
       "      <td>...</td>\n",
       "      <td>...</td>\n",
       "      <td>...</td>\n",
       "      <td>...</td>\n",
       "      <td>...</td>\n",
       "      <td>...</td>\n",
       "      <td>...</td>\n",
       "      <td>...</td>\n",
       "    </tr>\n",
       "    <tr>\n",
       "      <th>6645</th>\n",
       "      <td>a8216afd</td>\n",
       "      <td>61</td>\n",
       "      <td>Male</td>\n",
       "      <td>5L - 10L</td>\n",
       "      <td>1354526.19</td>\n",
       "      <td>4</td>\n",
       "      <td>1</td>\n",
       "      <td>2</td>\n",
       "      <td>1</td>\n",
       "      <td>Poor</td>\n",
       "      <td>1</td>\n",
       "    </tr>\n",
       "    <tr>\n",
       "      <th>6646</th>\n",
       "      <td>153a306b</td>\n",
       "      <td>42</td>\n",
       "      <td>Female</td>\n",
       "      <td>5L - 10L</td>\n",
       "      <td>596286.54</td>\n",
       "      <td>3</td>\n",
       "      <td>1</td>\n",
       "      <td>2</td>\n",
       "      <td>1</td>\n",
       "      <td>Average</td>\n",
       "      <td>0</td>\n",
       "    </tr>\n",
       "    <tr>\n",
       "      <th>6647</th>\n",
       "      <td>d4075a95</td>\n",
       "      <td>29</td>\n",
       "      <td>Male</td>\n",
       "      <td>Less than 5L</td>\n",
       "      <td>979298.19</td>\n",
       "      <td>2</td>\n",
       "      <td>0</td>\n",
       "      <td>2</td>\n",
       "      <td>0</td>\n",
       "      <td>Poor</td>\n",
       "      <td>0</td>\n",
       "    </tr>\n",
       "    <tr>\n",
       "      <th>6648</th>\n",
       "      <td>5855b142</td>\n",
       "      <td>66</td>\n",
       "      <td>Female</td>\n",
       "      <td>10L - 15L</td>\n",
       "      <td>395233.65</td>\n",
       "      <td>3</td>\n",
       "      <td>0</td>\n",
       "      <td>2</td>\n",
       "      <td>1</td>\n",
       "      <td>Poor</td>\n",
       "      <td>1</td>\n",
       "    </tr>\n",
       "    <tr>\n",
       "      <th>6649</th>\n",
       "      <td>57b39511</td>\n",
       "      <td>37</td>\n",
       "      <td>Male</td>\n",
       "      <td>More than 15L</td>\n",
       "      <td>826947.27</td>\n",
       "      <td>1</td>\n",
       "      <td>1</td>\n",
       "      <td>2</td>\n",
       "      <td>0</td>\n",
       "      <td>Good</td>\n",
       "      <td>0</td>\n",
       "    </tr>\n",
       "  </tbody>\n",
       "</table>\n",
       "<p>6650 rows × 11 columns</p>\n",
       "</div>"
      ],
      "text/plain": [
       "            ID  Age  Gender         Income     Balance  Vintage  \\\n",
       "0     84e2fcc9   36  Female       5L - 10L   563266.44        4   \n",
       "1     57fea15e   53  Female   Less than 5L   875572.11        2   \n",
       "2     8df34ef3   35  Female  More than 15L   701607.06        2   \n",
       "3     c5c0788b   43  Female  More than 15L  1393922.16        0   \n",
       "4     951d69c4   39  Female  More than 15L   893146.23        1   \n",
       "...        ...  ...     ...            ...         ...      ...   \n",
       "6645  a8216afd   61    Male       5L - 10L  1354526.19        4   \n",
       "6646  153a306b   42  Female       5L - 10L   596286.54        3   \n",
       "6647  d4075a95   29    Male   Less than 5L   979298.19        2   \n",
       "6648  5855b142   66  Female      10L - 15L   395233.65        3   \n",
       "6649  57b39511   37    Male  More than 15L   826947.27        1   \n",
       "\n",
       "      Transaction_Status Product_Holdings  Credit_Card Credit_Category  \\\n",
       "0                      0                1            0         Average   \n",
       "1                      1                1            1            Poor   \n",
       "2                      1                2            0            Poor   \n",
       "3                      1                2            1            Poor   \n",
       "4                      1                1            1            Good   \n",
       "...                  ...              ...          ...             ...   \n",
       "6645                   1                2            1            Poor   \n",
       "6646                   1                2            1         Average   \n",
       "6647                   0                2            0            Poor   \n",
       "6648                   0                2            1            Poor   \n",
       "6649                   1                2            0            Good   \n",
       "\n",
       "      Is_Churn  \n",
       "0            1  \n",
       "1            0  \n",
       "2            0  \n",
       "3            1  \n",
       "4            1  \n",
       "...        ...  \n",
       "6645         1  \n",
       "6646         0  \n",
       "6647         0  \n",
       "6648         1  \n",
       "6649         0  \n",
       "\n",
       "[6650 rows x 11 columns]"
      ]
     },
     "execution_count": 6,
     "metadata": {},
     "output_type": "execute_result"
    }
   ],
   "source": [
    "df"
   ]
  },
  {
   "cell_type": "code",
   "execution_count": 8,
   "id": "093fcffb",
   "metadata": {},
   "outputs": [],
   "source": [
    "y_true = df['Is_Churn'].values\n",
    "result = df\n",
    "train_df, test_df,y_train, y_test = train_test_split(result, y_true, stratify = y_true, test_size = 0.2)"
   ]
  },
  {
   "cell_type": "code",
   "execution_count": 9,
   "id": "8f075a93",
   "metadata": {},
   "outputs": [],
   "source": [
    "alpha = 1\n",
    "train_Gender_response_coding = np.array(get_gv_feature(alpha, \"Gender\", train_df))\n",
    "test_Gender_response_coding = np.array(get_gv_feature(alpha, \"Gender\", test_df))"
   ]
  },
  {
   "cell_type": "code",
   "execution_count": 11,
   "id": "ff8463cd",
   "metadata": {},
   "outputs": [],
   "source": [
    "Agency_train = pd.DataFrame(train_Gender_response_coding, columns=['Agency_1','Agency_2'])\n",
    "Agency_test = pd.DataFrame(test_Gender_response_coding, columns=['Agency_1','Agency_2'])"
   ]
  },
  {
   "cell_type": "code",
   "execution_count": 12,
   "id": "75f8e705",
   "metadata": {},
   "outputs": [],
   "source": [
    "alpha = 1\n",
    "train_Income_response_coding = np.array(get_gv_feature(alpha, \"Income\", train_df))\n",
    "test_Income_response_coding = np.array(get_gv_feature(alpha, \"Income\", test_df))"
   ]
  },
  {
   "cell_type": "code",
   "execution_count": 13,
   "id": "2a6eab8c",
   "metadata": {},
   "outputs": [],
   "source": [
    "AgencyType_train = pd.DataFrame(train_Income_response_coding, columns=['AgencyType_1','AgencyType_2'])\n",
    "AgencyType_test = pd.DataFrame(test_Income_response_coding, columns=['AgencyType_1','AgencyType_2'])"
   ]
  },
  {
   "cell_type": "code",
   "execution_count": 14,
   "id": "d7a1d7cd",
   "metadata": {},
   "outputs": [],
   "source": [
    "alpha = 1\n",
    "train_DisChan_response_coding = np.array(get_gv_feature(alpha, \"Vintage\", train_df))\n",
    "test_DisChan_response_coding = np.array(get_gv_feature(alpha, \"Vintage\", test_df))"
   ]
  },
  {
   "cell_type": "code",
   "execution_count": 15,
   "id": "b2fdcdd1",
   "metadata": {},
   "outputs": [],
   "source": [
    "DisChan_train = pd.DataFrame(train_DisChan_response_coding, columns=['DisChan_1','DisChan_2'])\n",
    "DisChan_test = pd.DataFrame(test_DisChan_response_coding, columns=['DisChan_1','DisChan_2'])"
   ]
  },
  {
   "cell_type": "code",
   "execution_count": 16,
   "id": "660a3995",
   "metadata": {},
   "outputs": [],
   "source": [
    "alpha = 1\n",
    "train_product_response_coding = np.array(get_gv_feature(alpha, \"Transaction_Status\", train_df))\n",
    "test_product_response_coding = np.array(get_gv_feature(alpha, \"Transaction_Status\", test_df))"
   ]
  },
  {
   "cell_type": "code",
   "execution_count": 18,
   "id": "9543bd08",
   "metadata": {},
   "outputs": [],
   "source": [
    "product_train = pd.DataFrame(train_product_response_coding, columns=['Product_1','Product_2'])\n",
    "product_test = pd.DataFrame(test_product_response_coding, columns=['Product_1','Product_2'])"
   ]
  },
  {
   "cell_type": "code",
   "execution_count": 19,
   "id": "5d056e23",
   "metadata": {},
   "outputs": [],
   "source": [
    "alpha = 1\n",
    "train_destination_response_coding = np.array(get_gv_feature(alpha, \"Product_Holdings\", train_df))\n",
    "test_destination_response_coding = np.array(get_gv_feature(alpha, \"Product_Holdings\", test_df))"
   ]
  },
  {
   "cell_type": "code",
   "execution_count": 20,
   "id": "a7efdaca",
   "metadata": {},
   "outputs": [],
   "source": [
    "destination_train = pd.DataFrame(train_destination_response_coding, columns=['Destination_1','Destination_2'])\n",
    "destination_test = pd.DataFrame(test_destination_response_coding, columns=['Destination_1','Destination_2'])"
   ]
  },
  {
   "cell_type": "code",
   "execution_count": 22,
   "id": "1598055c",
   "metadata": {},
   "outputs": [],
   "source": [
    "alpha = 1\n",
    "train_Credit_Category_response_coding = np.array(get_gv_feature(alpha, \"Credit_Category\", train_df))\n",
    "test_Credit_Category_response_coding = np.array(get_gv_feature(alpha, \"Credit_Category\", test_df))"
   ]
  },
  {
   "cell_type": "code",
   "execution_count": 23,
   "id": "587ccb28",
   "metadata": {},
   "outputs": [],
   "source": [
    "Credit_Category_train = pd.DataFrame(train_Credit_Category_response_coding, columns=['Credit_Category_1','Credit_Category_2'])\n",
    "Credit_Category_test = pd.DataFrame(test_Credit_Category_response_coding, columns=['Credit_Category_1','Credit_Category_2'])"
   ]
  },
  {
   "cell_type": "code",
   "execution_count": 24,
   "id": "7b2d5418",
   "metadata": {},
   "outputs": [],
   "source": [
    "dtr = pd.concat([Agency_train,AgencyType_train,DisChan_train,product_train,destination_train,Credit_Category_train],1)\n",
    "dte = pd.concat([Agency_test,AgencyType_test,DisChan_test,product_test,destination_test,Credit_Category_test],1)"
   ]
  },
  {
   "cell_type": "code",
   "execution_count": 35,
   "id": "d3f00cc8",
   "metadata": {},
   "outputs": [
    {
     "data": {
      "text/html": [
       "<div>\n",
       "<style scoped>\n",
       "    .dataframe tbody tr th:only-of-type {\n",
       "        vertical-align: middle;\n",
       "    }\n",
       "\n",
       "    .dataframe tbody tr th {\n",
       "        vertical-align: top;\n",
       "    }\n",
       "\n",
       "    .dataframe thead th {\n",
       "        text-align: right;\n",
       "    }\n",
       "</style>\n",
       "<table border=\"1\" class=\"dataframe\">\n",
       "  <thead>\n",
       "    <tr style=\"text-align: right;\">\n",
       "      <th></th>\n",
       "      <th>0</th>\n",
       "    </tr>\n",
       "  </thead>\n",
       "  <tbody>\n",
       "    <tr>\n",
       "      <th>Product_1</th>\n",
       "      <td>0.013987</td>\n",
       "    </tr>\n",
       "    <tr>\n",
       "      <th>Product_2</th>\n",
       "      <td>0.015754</td>\n",
       "    </tr>\n",
       "    <tr>\n",
       "      <th>Agency_2</th>\n",
       "      <td>0.017193</td>\n",
       "    </tr>\n",
       "    <tr>\n",
       "      <th>Agency_1</th>\n",
       "      <td>0.017856</td>\n",
       "    </tr>\n",
       "    <tr>\n",
       "      <th>Destination_1</th>\n",
       "      <td>0.024960</td>\n",
       "    </tr>\n",
       "    <tr>\n",
       "      <th>Destination_2</th>\n",
       "      <td>0.025787</td>\n",
       "    </tr>\n",
       "    <tr>\n",
       "      <th>Credit_Category_1</th>\n",
       "      <td>0.034175</td>\n",
       "    </tr>\n",
       "    <tr>\n",
       "      <th>Credit_Category_2</th>\n",
       "      <td>0.034575</td>\n",
       "    </tr>\n",
       "    <tr>\n",
       "      <th>AgencyType_2</th>\n",
       "      <td>0.054678</td>\n",
       "    </tr>\n",
       "    <tr>\n",
       "      <th>AgencyType_1</th>\n",
       "      <td>0.056976</td>\n",
       "    </tr>\n",
       "    <tr>\n",
       "      <th>DisChan_1</th>\n",
       "      <td>0.069494</td>\n",
       "    </tr>\n",
       "    <tr>\n",
       "      <th>DisChan_2</th>\n",
       "      <td>0.071787</td>\n",
       "    </tr>\n",
       "    <tr>\n",
       "      <th>Balance</th>\n",
       "      <td>0.275480</td>\n",
       "    </tr>\n",
       "    <tr>\n",
       "      <th>Age</th>\n",
       "      <td>0.287297</td>\n",
       "    </tr>\n",
       "  </tbody>\n",
       "</table>\n",
       "</div>"
      ],
      "text/plain": [
       "                          0\n",
       "Product_1          0.013987\n",
       "Product_2          0.015754\n",
       "Agency_2           0.017193\n",
       "Agency_1           0.017856\n",
       "Destination_1      0.024960\n",
       "Destination_2      0.025787\n",
       "Credit_Category_1  0.034175\n",
       "Credit_Category_2  0.034575\n",
       "AgencyType_2       0.054678\n",
       "AgencyType_1       0.056976\n",
       "DisChan_1          0.069494\n",
       "DisChan_2          0.071787\n",
       "Balance            0.275480\n",
       "Age                0.287297"
      ]
     },
     "execution_count": 35,
     "metadata": {},
     "output_type": "execute_result"
    }
   ],
   "source": [
    "col_name = final_test_res.columns.tolist()\n",
    "feature_rf_res= rf_res.feature_importances_.tolist()\n",
    "RF_res_feature = pd.DataFrame(feature_rf_res,col_name)\n",
    "RF_res_feature = RF_res_feature.sort_values(by =[0])\n",
    "RF_res_feature"
   ]
  },
  {
   "cell_type": "code",
   "execution_count": 26,
   "id": "5ac4b3c1",
   "metadata": {},
   "outputs": [
    {
     "data": {
      "text/html": [
       "<div>\n",
       "<style scoped>\n",
       "    .dataframe tbody tr th:only-of-type {\n",
       "        vertical-align: middle;\n",
       "    }\n",
       "\n",
       "    .dataframe tbody tr th {\n",
       "        vertical-align: top;\n",
       "    }\n",
       "\n",
       "    .dataframe thead th {\n",
       "        text-align: right;\n",
       "    }\n",
       "</style>\n",
       "<table border=\"1\" class=\"dataframe\">\n",
       "  <thead>\n",
       "    <tr style=\"text-align: right;\">\n",
       "      <th></th>\n",
       "      <th>ID</th>\n",
       "      <th>Age</th>\n",
       "      <th>Gender</th>\n",
       "      <th>Income</th>\n",
       "      <th>Balance</th>\n",
       "      <th>Vintage</th>\n",
       "      <th>Transaction_Status</th>\n",
       "      <th>Product_Holdings</th>\n",
       "      <th>Credit_Card</th>\n",
       "      <th>Credit_Category</th>\n",
       "      <th>Is_Churn</th>\n",
       "    </tr>\n",
       "  </thead>\n",
       "  <tbody>\n",
       "    <tr>\n",
       "      <th>1581</th>\n",
       "      <td>56d244ad</td>\n",
       "      <td>35</td>\n",
       "      <td>Male</td>\n",
       "      <td>10L - 15L</td>\n",
       "      <td>1454305.32</td>\n",
       "      <td>1</td>\n",
       "      <td>1</td>\n",
       "      <td>2</td>\n",
       "      <td>1</td>\n",
       "      <td>Poor</td>\n",
       "      <td>0</td>\n",
       "    </tr>\n",
       "    <tr>\n",
       "      <th>3574</th>\n",
       "      <td>739afbba</td>\n",
       "      <td>34</td>\n",
       "      <td>Female</td>\n",
       "      <td>More than 15L</td>\n",
       "      <td>2392389.81</td>\n",
       "      <td>2</td>\n",
       "      <td>1</td>\n",
       "      <td>1</td>\n",
       "      <td>1</td>\n",
       "      <td>Average</td>\n",
       "      <td>0</td>\n",
       "    </tr>\n",
       "    <tr>\n",
       "      <th>4547</th>\n",
       "      <td>62079935</td>\n",
       "      <td>46</td>\n",
       "      <td>Female</td>\n",
       "      <td>More than 15L</td>\n",
       "      <td>907884.09</td>\n",
       "      <td>0</td>\n",
       "      <td>0</td>\n",
       "      <td>2</td>\n",
       "      <td>1</td>\n",
       "      <td>Poor</td>\n",
       "      <td>0</td>\n",
       "    </tr>\n",
       "    <tr>\n",
       "      <th>5418</th>\n",
       "      <td>4d941f33</td>\n",
       "      <td>48</td>\n",
       "      <td>Male</td>\n",
       "      <td>10L - 15L</td>\n",
       "      <td>159818.76</td>\n",
       "      <td>1</td>\n",
       "      <td>0</td>\n",
       "      <td>2</td>\n",
       "      <td>0</td>\n",
       "      <td>Average</td>\n",
       "      <td>0</td>\n",
       "    </tr>\n",
       "    <tr>\n",
       "      <th>2588</th>\n",
       "      <td>09f79710</td>\n",
       "      <td>43</td>\n",
       "      <td>Female</td>\n",
       "      <td>More than 15L</td>\n",
       "      <td>427884.93</td>\n",
       "      <td>3</td>\n",
       "      <td>1</td>\n",
       "      <td>1</td>\n",
       "      <td>1</td>\n",
       "      <td>Poor</td>\n",
       "      <td>1</td>\n",
       "    </tr>\n",
       "    <tr>\n",
       "      <th>...</th>\n",
       "      <td>...</td>\n",
       "      <td>...</td>\n",
       "      <td>...</td>\n",
       "      <td>...</td>\n",
       "      <td>...</td>\n",
       "      <td>...</td>\n",
       "      <td>...</td>\n",
       "      <td>...</td>\n",
       "      <td>...</td>\n",
       "      <td>...</td>\n",
       "      <td>...</td>\n",
       "    </tr>\n",
       "    <tr>\n",
       "      <th>340</th>\n",
       "      <td>dccb724a</td>\n",
       "      <td>45</td>\n",
       "      <td>Female</td>\n",
       "      <td>More than 15L</td>\n",
       "      <td>370241.19</td>\n",
       "      <td>4</td>\n",
       "      <td>1</td>\n",
       "      <td>2</td>\n",
       "      <td>1</td>\n",
       "      <td>Poor</td>\n",
       "      <td>0</td>\n",
       "    </tr>\n",
       "    <tr>\n",
       "      <th>1163</th>\n",
       "      <td>ce3c30a5</td>\n",
       "      <td>51</td>\n",
       "      <td>Female</td>\n",
       "      <td>10L - 15L</td>\n",
       "      <td>126578.52</td>\n",
       "      <td>2</td>\n",
       "      <td>1</td>\n",
       "      <td>2</td>\n",
       "      <td>1</td>\n",
       "      <td>Average</td>\n",
       "      <td>0</td>\n",
       "    </tr>\n",
       "    <tr>\n",
       "      <th>485</th>\n",
       "      <td>baf51fff</td>\n",
       "      <td>33</td>\n",
       "      <td>Female</td>\n",
       "      <td>More than 15L</td>\n",
       "      <td>766114.02</td>\n",
       "      <td>3</td>\n",
       "      <td>0</td>\n",
       "      <td>2</td>\n",
       "      <td>0</td>\n",
       "      <td>Good</td>\n",
       "      <td>0</td>\n",
       "    </tr>\n",
       "    <tr>\n",
       "      <th>2585</th>\n",
       "      <td>dc0864f2</td>\n",
       "      <td>58</td>\n",
       "      <td>Male</td>\n",
       "      <td>Less than 5L</td>\n",
       "      <td>1026088.38</td>\n",
       "      <td>3</td>\n",
       "      <td>0</td>\n",
       "      <td>1</td>\n",
       "      <td>1</td>\n",
       "      <td>Poor</td>\n",
       "      <td>1</td>\n",
       "    </tr>\n",
       "    <tr>\n",
       "      <th>3967</th>\n",
       "      <td>1679bafa</td>\n",
       "      <td>51</td>\n",
       "      <td>Male</td>\n",
       "      <td>5L - 10L</td>\n",
       "      <td>573302.70</td>\n",
       "      <td>3</td>\n",
       "      <td>0</td>\n",
       "      <td>2</td>\n",
       "      <td>1</td>\n",
       "      <td>Good</td>\n",
       "      <td>0</td>\n",
       "    </tr>\n",
       "  </tbody>\n",
       "</table>\n",
       "<p>5320 rows × 11 columns</p>\n",
       "</div>"
      ],
      "text/plain": [
       "            ID  Age  Gender         Income     Balance  Vintage  \\\n",
       "1581  56d244ad   35    Male      10L - 15L  1454305.32        1   \n",
       "3574  739afbba   34  Female  More than 15L  2392389.81        2   \n",
       "4547  62079935   46  Female  More than 15L   907884.09        0   \n",
       "5418  4d941f33   48    Male      10L - 15L   159818.76        1   \n",
       "2588  09f79710   43  Female  More than 15L   427884.93        3   \n",
       "...        ...  ...     ...            ...         ...      ...   \n",
       "340   dccb724a   45  Female  More than 15L   370241.19        4   \n",
       "1163  ce3c30a5   51  Female      10L - 15L   126578.52        2   \n",
       "485   baf51fff   33  Female  More than 15L   766114.02        3   \n",
       "2585  dc0864f2   58    Male   Less than 5L  1026088.38        3   \n",
       "3967  1679bafa   51    Male       5L - 10L   573302.70        3   \n",
       "\n",
       "      Transaction_Status Product_Holdings  Credit_Card Credit_Category  \\\n",
       "1581                   1                2            1            Poor   \n",
       "3574                   1                1            1         Average   \n",
       "4547                   0                2            1            Poor   \n",
       "5418                   0                2            0         Average   \n",
       "2588                   1                1            1            Poor   \n",
       "...                  ...              ...          ...             ...   \n",
       "340                    1                2            1            Poor   \n",
       "1163                   1                2            1         Average   \n",
       "485                    0                2            0            Good   \n",
       "2585                   0                1            1            Poor   \n",
       "3967                   0                2            1            Good   \n",
       "\n",
       "      Is_Churn  \n",
       "1581         0  \n",
       "3574         0  \n",
       "4547         0  \n",
       "5418         0  \n",
       "2588         1  \n",
       "...        ...  \n",
       "340          0  \n",
       "1163         0  \n",
       "485          0  \n",
       "2585         1  \n",
       "3967         0  \n",
       "\n",
       "[5320 rows x 11 columns]"
      ]
     },
     "execution_count": 26,
     "metadata": {},
     "output_type": "execute_result"
    }
   ],
   "source": [
    "train_df"
   ]
  },
  {
   "cell_type": "code",
   "execution_count": 27,
   "id": "9cbd7c78",
   "metadata": {},
   "outputs": [
    {
     "data": {
      "text/plain": [
       "['Age', 'Balance']"
      ]
     },
     "execution_count": 27,
     "metadata": {},
     "output_type": "execute_result"
    }
   ],
   "source": [
    "num_train = train_df.iloc[::,[1,4]]\n",
    "num_test = test_df.iloc[::,[1,4]]\n",
    "cols = list(num_train.columns)\n",
    "cols"
   ]
  },
  {
   "cell_type": "code",
   "execution_count": 28,
   "id": "10c665da",
   "metadata": {},
   "outputs": [],
   "source": [
    "scalar = StandardScaler(with_mean=False)\n",
    "scale_train = pd.DataFrame(scalar.fit_transform(num_train),columns=cols)\n",
    "scale_test = pd.DataFrame(scalar.transform(num_test),columns=cols)"
   ]
  },
  {
   "cell_type": "code",
   "execution_count": 29,
   "id": "6313622c",
   "metadata": {},
   "outputs": [
    {
     "name": "stdout",
     "output_type": "stream",
     "text": [
      "X\n",
      "(5320, 14)\n",
      "(1330, 14)\n",
      "y\n",
      "(5320,)\n",
      "(1330,)\n"
     ]
    }
   ],
   "source": [
    "final_train_res = pd.concat([dtr,scale_train],1)\n",
    "final_test_res = pd.concat([dte,scale_test],1)\n",
    "print('X')\n",
    "print(final_train_res.shape)\n",
    "print(final_test_res.shape)\n",
    "print('y')\n",
    "print(y_train.shape)\n",
    "print(y_test.shape)"
   ]
  },
  {
   "cell_type": "code",
   "execution_count": 30,
   "id": "1ace6d81",
   "metadata": {},
   "outputs": [],
   "source": [
    "# This function plots the confusion matrices given y_i, y_i_hat.\n",
    "def plot_confusion_matrix(test_y, predict_y):\n",
    "    C = confusion_matrix(test_y, predict_y)\n",
    " \n",
    "    A =(((C.T)/(C.sum(axis=1))).T)\n",
    "\n",
    "    B =(C/C.sum(axis=0))\n",
    "\n",
    "    labels = [0,1]\n",
    "    print(\"-\"*20, \"Confusion matrix\", \"-\"*20)\n",
    "    plt.figure(figsize=(5,3))\n",
    "    sns.heatmap(C, annot=True, cmap=\"YlGnBu\", fmt=\".3f\", xticklabels=labels, yticklabels=labels)\n",
    "    plt.xlabel('Predicted Class')\n",
    "    plt.ylabel('Original Class')\n",
    "    plt.show()\n",
    "\n",
    "    print(\"-\"*20, \"Precision matrix (Columm Sum=1)\", \"-\"*20)\n",
    "    plt.figure(figsize=(5,3))\n",
    "    sns.heatmap(B, annot=True, cmap=\"YlGnBu\", fmt=\".3f\", xticklabels=labels, yticklabels=labels)\n",
    "    plt.xlabel('Predicted Class')\n",
    "    plt.ylabel('Original Class')\n",
    "    plt.show()\n",
    "    \n",
    "    print(\"-\"*20, \"Recall matrix (Row sum=1)\", \"-\"*20)\n",
    "    plt.figure(figsize=(5,3))\n",
    "    sns.heatmap(A, annot=True, cmap=\"YlGnBu\", fmt=\".3f\", xticklabels=labels, yticklabels=labels)\n",
    "    plt.xlabel('Predicted Class')\n",
    "    plt.ylabel('Original Class')\n",
    "    plt.show()"
   ]
  },
  {
   "cell_type": "code",
   "execution_count": 39,
   "id": "87a99a4f",
   "metadata": {},
   "outputs": [
    {
     "data": {
      "text/plain": [
       "[0.0001, 0.001, 0.01, 0.1, 1, 10, 100, 1000, 10000]"
      ]
     },
     "execution_count": 39,
     "metadata": {},
     "output_type": "execute_result"
    }
   ],
   "source": [
    "[10**x for x in range(-4,5)]"
   ]
  },
  {
   "cell_type": "code",
   "execution_count": 36,
   "id": "3deab4ce",
   "metadata": {},
   "outputs": [],
   "source": [
    "def logit(Xtrain,ytrain):\n",
    "    \"\"\"\n",
    "    Function to find the best hyperparameter\n",
    "    Input : Training Dataset\n",
    "    ---\n",
    "    Output : best hyperparameter\n",
    "    \"\"\"\n",
    "    parameters = [{'C': [10**x for x in range(-4,5)]}]\n",
    "    K =[10**x for x in range(-4,5)]\n",
    "    K = np.log10(K)\n",
    "    \n",
    "    log= LogisticRegression(class_weight = 'balanced')\n",
    "    clf = GridSearchCV(log, parameters, cv=5, scoring='roc_auc',return_train_score=True)\n",
    "    clf.fit(Xtrain, ytrain)\n",
    "\n",
    "    train_auc= clf.cv_results_['mean_train_score']\n",
    "    train_auc_std= clf.cv_results_['std_train_score']\n",
    "    cv_auc = clf.cv_results_['mean_test_score'] \n",
    "    cv_auc_std= clf.cv_results_['std_test_score']\n",
    "    lamb= clf.best_params_\n",
    "    lamb = list(lamb.values())[0]\n",
    "\n",
    "    plt.plot(K, train_auc, label='Train AUC')\n",
    "    # this code is copied from here: https://stackoverflow.com/a/48803361/4084039\n",
    "    plt.gca().fill_between(K,train_auc - train_auc_std,train_auc + train_auc_std,alpha=0.2,color='darkblue')\n",
    "    \n",
    "    plt.plot(K, cv_auc, label='CV AUC')\n",
    "    plt.gca().fill_between(K,cv_auc - cv_auc_std,cv_auc + cv_auc_std,alpha=0.2,color='darkorange')\n",
    "    plt.scatter(K, train_auc, label='Train AUC points')\n",
    "    plt.scatter(K, cv_auc, label='CV AUC points')\n",
    "    plt.grid(True)\n",
    "    plt.legend()\n",
    "    plt.xlabel(\"K: hyperparameter\")\n",
    "    plt.ylabel(\"AUC\")\n",
    "    plt.title(\"ERROR PLOTS\")\n",
    "    plt.show()\n",
    "    return lamb\n",
    "\n",
    "def final_logl2(Xtrain,ytrain,Xtest,ytest,best_c):\n",
    "    \"\"\"\n",
    "    Function to find the model with best hyperparameter\n",
    "    Input : Training data, Test Data and best value of c\n",
    "    ---\n",
    "    Output : best trained model\n",
    "    \"\"\"\n",
    "    logl2 = LogisticRegression(C= best_c,class_weight = 'balanced')\n",
    "    logl2.fit(Xtrain, ytrain)\n",
    "    train_fpr, train_tpr, thresholds = roc_curve(ytrain, logl2.predict_proba(Xtrain)[:,1])\n",
    "    test_fpr, test_tpr, thresholds = roc_curve(ytest, logl2.predict_proba(Xtest)[:,1])\n",
    "    plt.plot(train_fpr, train_tpr, label=\"train AUC =\"+str(auc(train_fpr, train_tpr)))\n",
    "    plt.plot(test_fpr, test_tpr, label=\"test AUC =\"+str(auc(test_fpr, test_tpr)))\n",
    "    plt.legend()\n",
    "    plt.grid(True)\n",
    "    plt.xlabel(\"False Positive Rate\")\n",
    "    plt.ylabel(\"True Positive Rate\")\n",
    "    plt.title(\"ROC Curve\")\n",
    "    plt.plot([0, 1], [0, 1],'r--')\n",
    "    plt.xlim([0, 1])\n",
    "    plt.ylim([0, 1])\n",
    "    plt.show()\n",
    "    return logl2\n"
   ]
  },
  {
   "cell_type": "code",
   "execution_count": 37,
   "id": "d684a679",
   "metadata": {},
   "outputs": [
    {
     "data": {
      "image/png": "[encoded data removed]",
      "text/plain": [
       "<Figure size 432x288 with 1 Axes>"
      ]
     },
     "metadata": {
      "needs_background": "light"
     },
     "output_type": "display_data"
    },
    {
     "name": "stdout",
     "output_type": "stream",
     "text": [
      "best c using L2 : 10\n",
      "Wall time: 2.72 s\n"
     ]
    }
   ],
   "source": [
    "%%time\n",
    "best_c_res = logit(final_train_res,y_train)\n",
    "print('best c using L2 :',best_c_res)"
   ]
  },
  {
   "cell_type": "code",
   "execution_count": 38,
   "id": "7d790731",
   "metadata": {},
   "outputs": [
    {
     "data": {
      "image/png": "[encoded data removed]",
      "text/plain": [
       "<Figure size 432x288 with 1 Axes>"
      ]
     },
     "metadata": {
      "needs_background": "light"
     },
     "output_type": "display_data"
    },
    {
     "name": "stdout",
     "output_type": "stream",
     "text": [
      "-------------------- Confusion matrix --------------------\n"
     ]
    },
    {
     "data": {
      "image/png": "[encoded data removed]",
      "text/plain": [
       "<Figure size 360x216 with 2 Axes>"
      ]
     },
     "metadata": {
      "needs_background": "light"
     },
     "output_type": "display_data"
    },
    {
     "name": "stdout",
     "output_type": "stream",
     "text": [
      "-------------------- Precision matrix (Columm Sum=1) --------------------\n"
     ]
    },
    {
     "data": {
      "image/png": "[encoded data removed]",
      "text/plain": [
       "<Figure size 360x216 with 2 Axes>"
      ]
     },
     "metadata": {
      "needs_background": "light"
     },
     "output_type": "display_data"
    },
    {
     "name": "stdout",
     "output_type": "stream",
     "text": [
      "-------------------- Recall matrix (Row sum=1) --------------------\n"
     ]
    },
    {
     "data": {
      "image/png": "[encoded data removed]",
      "text/plain": [
       "<Figure size 360x216 with 2 Axes>"
      ]
     },
     "metadata": {
      "needs_background": "light"
     },
     "output_type": "display_data"
    }
   ],
   "source": [
    "log_model_res= final_logl2(final_train_res,y_train,final_test_res, y_test,best_c_res)\n",
    "plot_confusion_matrix(y_test,log_model_res.predict(final_test_res))"
   ]
  },
  {
   "cell_type": "code",
   "execution_count": null,
   "id": "7fe5f586",
   "metadata": {},
   "outputs": [],
   "source": []
  },
  {
   "cell_type": "code",
   "execution_count": 31,
   "id": "31153e35",
   "metadata": {},
   "outputs": [],
   "source": [
    "def best_RF(Xtrain,ytrain):\n",
    "    \"\"\"\n",
    "    Function to find the best hyperparameter of random forest\n",
    "    Returns : best depth and best number of models\n",
    "    ---\n",
    "    Input : Training dataset\n",
    "    \"\"\"\n",
    "    # https://scikit-learn.org/stable/modules/generated/sklearn.model_selection.GridSearchCV.html\n",
    "    max_depth = [230,250,280,300]\n",
    "    n_models = [150,170,200,230,260]\n",
    "    parameters = {'max_depth':  max_depth, 'n_estimators' :n_models}\n",
    "    clftree = RandomForestClassifier(class_weight='balanced')\n",
    "    clf = GridSearchCV(clftree,parameters,cv=5, scoring='roc_auc',return_train_score=True)\n",
    "    clf.fit(Xtrain,ytrain)\n",
    "    tab = pd.DataFrame(clf.cv_results_)\n",
    "    import seaborn as sns\n",
    "    plt.figure(figsize=(15, 8))\n",
    "    max_scores = tab.groupby(['param_max_depth','param_n_estimators']).max()\n",
    "    max_scores = max_scores.unstack()[['mean_test_score', 'mean_train_score']]\n",
    "    sns.heatmap(max_scores.mean_test_score, annot=True, fmt='.4g')\n",
    "    plt.title('Grid Search CV Score on Train and Test Data')\n",
    "    plt.show()\n",
    "    best_parameter= clf.best_params_\n",
    "    print('Best depth: ', clf.best_estimator_.max_depth)\n",
    "    print('Best n estimators: ', clf.best_estimator_.n_estimators)\n",
    "    return clf.best_estimator_.max_depth, clf.best_estimator_.n_estimators\n",
    "\n",
    "def final_RF( Xtrain ,ytrain ,Xtest ,ytest , param1 , param2):\n",
    "    \"\"\"\n",
    "    Returns : threshold values, False positive rate , True positive rate and the trained model\n",
    "    ---\n",
    "    Input : Train dataset, Test Dataset , best parameters\n",
    "    \"\"\"\n",
    "    clftre = RandomForestClassifier(class_weight='balanced',n_estimators=param1, max_depth=param2,criterion='entropy',min_samples_leaf=3)\n",
    "    clftre.fit(Xtrain,ytrain)\n",
    "    # roc_auc_score(y_true, y_score) the 2nd parameter should be probability estimates of the positive class\n",
    "    # not the predicted outputs\n",
    "    train_fpr, train_tpr, thresholds = roc_curve(ytrain, clftre.predict_proba(Xtrain)[:,1])\n",
    "    test_fpr, test_tpr, thresholds = roc_curve(ytest, clftre.predict_proba(Xtest)[:,1])\n",
    "    \n",
    "    plt.plot(train_fpr, train_tpr, label=\"train AUC =\"+str(auc(train_fpr, train_tpr)))\n",
    "    plt.plot(test_fpr, test_tpr, label=\"test AUC =\"+str(auc(test_fpr, test_tpr)))\n",
    "    plt.legend()\n",
    "    plt.grid(True)\n",
    "    plt.xlabel(\"False Positive Rate\")\n",
    "    plt.ylabel(\"True Positive Rate\")\n",
    "    plt.title(\"ROC Curve\")\n",
    "    plt.plot([0, 1], [0, 1],'r--')\n",
    "    plt.xlim([0, 1])\n",
    "    plt.ylim([0, 1])\n",
    "    plt.show()\n",
    "    return  clftre"
   ]
  },
  {
   "cell_type": "code",
   "execution_count": 32,
   "id": "60bc4a66",
   "metadata": {},
   "outputs": [
    {
     "data": {
      "image/png": "[encoded data removed]",
      "text/plain": [
       "<Figure size 1080x576 with 2 Axes>"
      ]
     },
     "metadata": {
      "needs_background": "light"
     },
     "output_type": "display_data"
    },
    {
     "name": "stdout",
     "output_type": "stream",
     "text": [
      "Best depth:  280\n",
      "Best n estimators:  230\n",
      "Wall time: 1min 25s\n"
     ]
    }
   ],
   "source": [
    "%%time\n",
    "best_depth_rf_res, best_samle_split_rf_res = best_RF(final_train_res,y_train)"
   ]
  },
  {
   "cell_type": "code",
   "execution_count": 33,
   "id": "470c8b9e",
   "metadata": {},
   "outputs": [
    {
     "data": {
      "image/png": "[encoded data removed]",
      "text/plain": [
       "<Figure size 432x288 with 1 Axes>"
      ]
     },
     "metadata": {
      "needs_background": "light"
     },
     "output_type": "display_data"
    },
    {
     "name": "stdout",
     "output_type": "stream",
     "text": [
      "-------------------- Confusion matrix --------------------\n"
     ]
    },
    {
     "data": {
      "image/png": "[encoded data removed]",
      "text/plain": [
       "<Figure size 360x216 with 2 Axes>"
      ]
     },
     "metadata": {
      "needs_background": "light"
     },
     "output_type": "display_data"
    },
    {
     "name": "stdout",
     "output_type": "stream",
     "text": [
      "-------------------- Precision matrix (Columm Sum=1) --------------------\n"
     ]
    },
    {
     "data": {
      "image/png": "[encoded data removed]",
      "text/plain": [
       "<Figure size 360x216 with 2 Axes>"
      ]
     },
     "metadata": {
      "needs_background": "light"
     },
     "output_type": "display_data"
    },
    {
     "name": "stdout",
     "output_type": "stream",
     "text": [
      "-------------------- Recall matrix (Row sum=1) --------------------\n"
     ]
    },
    {
     "data": {
      "image/png": "[encoded data removed]",
      "text/plain": [
       "<Figure size 360x216 with 2 Axes>"
      ]
     },
     "metadata": {
      "needs_background": "light"
     },
     "output_type": "display_data"
    }
   ],
   "source": [
    "rf_res= final_RF(final_train_res,y_train, final_test_res, y_test,best_samle_split_rf_res,best_depth_rf_res)\n",
    "plot_confusion_matrix(y_test,rf_res.predict(final_test_res))"
   ]
  },
  {
   "cell_type": "code",
   "execution_count": 34,
   "id": "dcd9e1af",
   "metadata": {},
   "outputs": [
    {
     "data": {
      "text/html": [
       "<div>\n",
       "<style scoped>\n",
       "    .dataframe tbody tr th:only-of-type {\n",
       "        vertical-align: middle;\n",
       "    }\n",
       "\n",
       "    .dataframe tbody tr th {\n",
       "        vertical-align: top;\n",
       "    }\n",
       "\n",
       "    .dataframe thead th {\n",
       "        text-align: right;\n",
       "    }\n",
       "</style>\n",
       "<table border=\"1\" class=\"dataframe\">\n",
       "  <thead>\n",
       "    <tr style=\"text-align: right;\">\n",
       "      <th></th>\n",
       "      <th>0</th>\n",
       "    </tr>\n",
       "  </thead>\n",
       "  <tbody>\n",
       "    <tr>\n",
       "      <th>Product_1</th>\n",
       "      <td>0.013987</td>\n",
       "    </tr>\n",
       "    <tr>\n",
       "      <th>Product_2</th>\n",
       "      <td>0.015754</td>\n",
       "    </tr>\n",
       "    <tr>\n",
       "      <th>Agency_2</th>\n",
       "      <td>0.017193</td>\n",
       "    </tr>\n",
       "    <tr>\n",
       "      <th>Agency_1</th>\n",
       "      <td>0.017856</td>\n",
       "    </tr>\n",
       "    <tr>\n",
       "      <th>Destination_1</th>\n",
       "      <td>0.024960</td>\n",
       "    </tr>\n",
       "    <tr>\n",
       "      <th>Destination_2</th>\n",
       "      <td>0.025787</td>\n",
       "    </tr>\n",
       "    <tr>\n",
       "      <th>Credit_Category_1</th>\n",
       "      <td>0.034175</td>\n",
       "    </tr>\n",
       "    <tr>\n",
       "      <th>Credit_Category_2</th>\n",
       "      <td>0.034575</td>\n",
       "    </tr>\n",
       "    <tr>\n",
       "      <th>AgencyType_2</th>\n",
       "      <td>0.054678</td>\n",
       "    </tr>\n",
       "    <tr>\n",
       "      <th>AgencyType_1</th>\n",
       "      <td>0.056976</td>\n",
       "    </tr>\n",
       "    <tr>\n",
       "      <th>DisChan_1</th>\n",
       "      <td>0.069494</td>\n",
       "    </tr>\n",
       "    <tr>\n",
       "      <th>DisChan_2</th>\n",
       "      <td>0.071787</td>\n",
       "    </tr>\n",
       "    <tr>\n",
       "      <th>Balance</th>\n",
       "      <td>0.275480</td>\n",
       "    </tr>\n",
       "    <tr>\n",
       "      <th>Age</th>\n",
       "      <td>0.287297</td>\n",
       "    </tr>\n",
       "  </tbody>\n",
       "</table>\n",
       "</div>"
      ],
      "text/plain": [
       "                          0\n",
       "Product_1          0.013987\n",
       "Product_2          0.015754\n",
       "Agency_2           0.017193\n",
       "Agency_1           0.017856\n",
       "Destination_1      0.024960\n",
       "Destination_2      0.025787\n",
       "Credit_Category_1  0.034175\n",
       "Credit_Category_2  0.034575\n",
       "AgencyType_2       0.054678\n",
       "AgencyType_1       0.056976\n",
       "DisChan_1          0.069494\n",
       "DisChan_2          0.071787\n",
       "Balance            0.275480\n",
       "Age                0.287297"
      ]
     },
     "execution_count": 34,
     "metadata": {},
     "output_type": "execute_result"
    }
   ],
   "source": []
  },
  {
   "cell_type": "code",
   "execution_count": null,
   "id": "e7d1fe14",
   "metadata": {},
   "outputs": [],
   "source": []
  }
 ],
 "metadata": {
  "kernelspec": {
   "display_name": "Python 3 (ipykernel)",
   "language": "python",
   "name": "python3"
  },
  "language_info": {
   "codemirror_mode": {
    "name": "ipython",
    "version": 3
   },
   "file_extension": ".py",
   "mimetype": "text/x-python",
   "name": "python",
   "nbconvert_exporter": "python",
   "pygments_lexer": "ipython3",
   "version": "3.9.1"
  }
 },
 "nbformat": 4,
 "nbformat_minor": 5
}
