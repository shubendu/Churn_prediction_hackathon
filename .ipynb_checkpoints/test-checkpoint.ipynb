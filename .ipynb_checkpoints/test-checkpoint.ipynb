{
 "cells": [
  {
   "cell_type": "code",
   "execution_count": 23,
   "id": "007f5af5",
   "metadata": {},
   "outputs": [],
   "source": [
    "import pandas as pd\n",
    "import pickle"
   ]
  },
  {
   "cell_type": "code",
   "execution_count": 24,
   "id": "4d5ca67d",
   "metadata": {},
   "outputs": [
    {
     "data": {
      "text/html": [
       "<div>\n",
       "<style scoped>\n",
       "    .dataframe tbody tr th:only-of-type {\n",
       "        vertical-align: middle;\n",
       "    }\n",
       "\n",
       "    .dataframe tbody tr th {\n",
       "        vertical-align: top;\n",
       "    }\n",
       "\n",
       "    .dataframe thead th {\n",
       "        text-align: right;\n",
       "    }\n",
       "</style>\n",
       "<table border=\"1\" class=\"dataframe\">\n",
       "  <thead>\n",
       "    <tr style=\"text-align: right;\">\n",
       "      <th></th>\n",
       "      <th>Age</th>\n",
       "      <th>Gender</th>\n",
       "      <th>Income</th>\n",
       "      <th>Balance</th>\n",
       "      <th>Vintage</th>\n",
       "      <th>Transaction_Status</th>\n",
       "      <th>Product_Holdings</th>\n",
       "      <th>Credit_Card</th>\n",
       "      <th>Credit_Category</th>\n",
       "    </tr>\n",
       "  </thead>\n",
       "  <tbody>\n",
       "    <tr>\n",
       "      <th>0</th>\n",
       "      <td>50</td>\n",
       "      <td>Female</td>\n",
       "      <td>More than 15L</td>\n",
       "      <td>1008636.39</td>\n",
       "      <td>2</td>\n",
       "      <td>1</td>\n",
       "      <td>2</td>\n",
       "      <td>1</td>\n",
       "      <td>Average</td>\n",
       "    </tr>\n",
       "    <tr>\n",
       "      <th>1</th>\n",
       "      <td>36</td>\n",
       "      <td>Male</td>\n",
       "      <td>5L - 10L</td>\n",
       "      <td>341460.72</td>\n",
       "      <td>2</td>\n",
       "      <td>0</td>\n",
       "      <td>2</td>\n",
       "      <td>1</td>\n",
       "      <td>Average</td>\n",
       "    </tr>\n",
       "    <tr>\n",
       "      <th>2</th>\n",
       "      <td>25</td>\n",
       "      <td>Female</td>\n",
       "      <td>10L - 15L</td>\n",
       "      <td>439460.10</td>\n",
       "      <td>0</td>\n",
       "      <td>0</td>\n",
       "      <td>2</td>\n",
       "      <td>1</td>\n",
       "      <td>Good</td>\n",
       "    </tr>\n",
       "    <tr>\n",
       "      <th>3</th>\n",
       "      <td>41</td>\n",
       "      <td>Male</td>\n",
       "      <td>Less than 5L</td>\n",
       "      <td>28581.93</td>\n",
       "      <td>0</td>\n",
       "      <td>1</td>\n",
       "      <td>2</td>\n",
       "      <td>1</td>\n",
       "      <td>Poor</td>\n",
       "    </tr>\n",
       "    <tr>\n",
       "      <th>4</th>\n",
       "      <td>48</td>\n",
       "      <td>Male</td>\n",
       "      <td>More than 15L</td>\n",
       "      <td>1104540.03</td>\n",
       "      <td>2</td>\n",
       "      <td>1</td>\n",
       "      <td>3+</td>\n",
       "      <td>0</td>\n",
       "      <td>Good</td>\n",
       "    </tr>\n",
       "    <tr>\n",
       "      <th>...</th>\n",
       "      <td>...</td>\n",
       "      <td>...</td>\n",
       "      <td>...</td>\n",
       "      <td>...</td>\n",
       "      <td>...</td>\n",
       "      <td>...</td>\n",
       "      <td>...</td>\n",
       "      <td>...</td>\n",
       "      <td>...</td>\n",
       "    </tr>\n",
       "    <tr>\n",
       "      <th>2846</th>\n",
       "      <td>40</td>\n",
       "      <td>Female</td>\n",
       "      <td>10L - 15L</td>\n",
       "      <td>1338458.22</td>\n",
       "      <td>0</td>\n",
       "      <td>0</td>\n",
       "      <td>1</td>\n",
       "      <td>1</td>\n",
       "      <td>Poor</td>\n",
       "    </tr>\n",
       "    <tr>\n",
       "      <th>2847</th>\n",
       "      <td>48</td>\n",
       "      <td>Female</td>\n",
       "      <td>More than 15L</td>\n",
       "      <td>1448280.27</td>\n",
       "      <td>0</td>\n",
       "      <td>1</td>\n",
       "      <td>2</td>\n",
       "      <td>1</td>\n",
       "      <td>Average</td>\n",
       "    </tr>\n",
       "    <tr>\n",
       "      <th>2848</th>\n",
       "      <td>59</td>\n",
       "      <td>Male</td>\n",
       "      <td>More than 15L</td>\n",
       "      <td>1100555.64</td>\n",
       "      <td>3</td>\n",
       "      <td>0</td>\n",
       "      <td>1</td>\n",
       "      <td>1</td>\n",
       "      <td>Poor</td>\n",
       "    </tr>\n",
       "    <tr>\n",
       "      <th>2849</th>\n",
       "      <td>34</td>\n",
       "      <td>Female</td>\n",
       "      <td>5L - 10L</td>\n",
       "      <td>1502818.92</td>\n",
       "      <td>2</td>\n",
       "      <td>0</td>\n",
       "      <td>1</td>\n",
       "      <td>1</td>\n",
       "      <td>Poor</td>\n",
       "    </tr>\n",
       "    <tr>\n",
       "      <th>2850</th>\n",
       "      <td>61</td>\n",
       "      <td>Female</td>\n",
       "      <td>10L - 15L</td>\n",
       "      <td>913787.73</td>\n",
       "      <td>0</td>\n",
       "      <td>1</td>\n",
       "      <td>2</td>\n",
       "      <td>1</td>\n",
       "      <td>Good</td>\n",
       "    </tr>\n",
       "  </tbody>\n",
       "</table>\n",
       "<p>2851 rows × 9 columns</p>\n",
       "</div>"
      ],
      "text/plain": [
       "      Age  Gender         Income     Balance  Vintage  Transaction_Status  \\\n",
       "0      50  Female  More than 15L  1008636.39        2                   1   \n",
       "1      36    Male       5L - 10L   341460.72        2                   0   \n",
       "2      25  Female      10L - 15L   439460.10        0                   0   \n",
       "3      41    Male   Less than 5L    28581.93        0                   1   \n",
       "4      48    Male  More than 15L  1104540.03        2                   1   \n",
       "...   ...     ...            ...         ...      ...                 ...   \n",
       "2846   40  Female      10L - 15L  1338458.22        0                   0   \n",
       "2847   48  Female  More than 15L  1448280.27        0                   1   \n",
       "2848   59    Male  More than 15L  1100555.64        3                   0   \n",
       "2849   34  Female       5L - 10L  1502818.92        2                   0   \n",
       "2850   61  Female      10L - 15L   913787.73        0                   1   \n",
       "\n",
       "     Product_Holdings  Credit_Card Credit_Category  \n",
       "0                   2            1         Average  \n",
       "1                   2            1         Average  \n",
       "2                   2            1            Good  \n",
       "3                   2            1            Poor  \n",
       "4                  3+            0            Good  \n",
       "...               ...          ...             ...  \n",
       "2846                1            1            Poor  \n",
       "2847                2            1         Average  \n",
       "2848                1            1            Poor  \n",
       "2849                1            1            Poor  \n",
       "2850                2            1            Good  \n",
       "\n",
       "[2851 rows x 9 columns]"
      ]
     },
     "execution_count": 24,
     "metadata": {},
     "output_type": "execute_result"
    }
   ],
   "source": [
    "df = pd.read_csv('test_lTY72QC.csv')\n",
    "ID = df.ID\n",
    "df = df.drop('ID',1)\n",
    "df"
   ]
  },
  {
   "cell_type": "code",
   "execution_count": 17,
   "id": "34103883",
   "metadata": {},
   "outputs": [],
   "source": [
    "# from sklearn.preprocessing import LabelEncoder, StandardScaler\n",
    "\n",
    "# label_encoder = LabelEncoder()\n",
    "# df.Gender= label_encoder.fit_transform(df.Gender)\n",
    "# df.Income = label_encoder.fit_transform(df.Income)\n",
    "# df.Credit_Category = label_encoder.fit_transform(df.Credit_Category)\n",
    "# df.Product_Holdings = label_encoder.fit_transform(df.Product_Holdings)"
   ]
  },
  {
   "cell_type": "code",
   "execution_count": 25,
   "id": "429cb171",
   "metadata": {},
   "outputs": [],
   "source": [
    "df = pd.get_dummies(data=df, columns=['Gender','Income','Credit_Category','Product_Holdings'], drop_first=True)"
   ]
  },
  {
   "cell_type": "code",
   "execution_count": 26,
   "id": "35beccaa",
   "metadata": {},
   "outputs": [],
   "source": [
    "scalar = pickle.load(open(\"scalerr\",\"rb\"))"
   ]
  },
  {
   "cell_type": "code",
   "execution_count": 27,
   "id": "58ae6915",
   "metadata": {},
   "outputs": [],
   "source": [
    "test = scalar.fit_transform(df)"
   ]
  },
  {
   "cell_type": "code",
   "execution_count": 28,
   "id": "3e093d6d",
   "metadata": {},
   "outputs": [
    {
     "data": {
      "text/plain": [
       "array([[5.20017068, 1.9208165 , 1.34257032, ..., 0.        , 2.00217981,\n",
       "        0.        ],\n",
       "       [3.74412289, 0.65026742, 1.34257032, ..., 0.        , 2.00217981,\n",
       "        0.        ],\n",
       "       [2.60008534, 0.83689447, 0.        , ..., 0.        , 2.00217981,\n",
       "        0.        ],\n",
       "       ...,\n",
       "       [6.1362014 , 2.09586473, 2.01385548, ..., 2.0120067 , 0.        ,\n",
       "        0.        ],\n",
       "       [3.53611606, 2.8619227 , 1.34257032, ..., 2.0120067 , 0.        ,\n",
       "        0.        ],\n",
       "       [6.34420823, 1.7401896 , 0.        , ..., 0.        , 2.00217981,\n",
       "        0.        ]])"
      ]
     },
     "execution_count": 28,
     "metadata": {},
     "output_type": "execute_result"
    }
   ],
   "source": [
    "test"
   ]
  },
  {
   "cell_type": "code",
   "execution_count": 29,
   "id": "e4620926",
   "metadata": {},
   "outputs": [
    {
     "data": {
      "text/plain": [
       "0    1637\n",
       "1    1214\n",
       "dtype: int64"
      ]
     },
     "execution_count": 29,
     "metadata": {},
     "output_type": "execute_result"
    }
   ],
   "source": [
    "#loading model1\n",
    "log_reg = pickle.load(open(\"logistic.sav\",\"rb\"))\n",
    "pred = log_reg.predict(test)\n",
    "pd.Series(pred).value_counts()"
   ]
  },
  {
   "cell_type": "code",
   "execution_count": 30,
   "id": "fad03761",
   "metadata": {},
   "outputs": [],
   "source": [
    "# #loading model1\n",
    "# log_reg = pickle.load(open(\"logistic.sav\",\"rb\"))\n",
    "# pred = log_reg.predict(test)\n",
    "# pd.Series(pred).value_counts()"
   ]
  },
  {
   "cell_type": "code",
   "execution_count": 31,
   "id": "a35a3ad6",
   "metadata": {},
   "outputs": [],
   "source": [
    "# #loading model2\n",
    "# dt = pickle.load(open(\"dt.sav\",\"rb\"))\n",
    "# pred = dt.predict(test)\n",
    "# pd.Series(pred).value_counts()"
   ]
  },
  {
   "cell_type": "markdown",
   "id": "5ab5287b",
   "metadata": {},
   "source": [
    "# Submission"
   ]
  },
  {
   "cell_type": "code",
   "execution_count": 32,
   "id": "36d2c0b5",
   "metadata": {},
   "outputs": [],
   "source": [
    "sub = pd.read_csv(\"sample_OoSmYo5.csv\")\n",
    "sub.Is_Churn = pred\n",
    "sub.to_csv(\"sample3.csv\",index=False)"
   ]
  },
  {
   "cell_type": "code",
   "execution_count": null,
   "id": "936e65d9",
   "metadata": {},
   "outputs": [],
   "source": [
    "from sklearn.preprocessing import MinMaxScaler"
   ]
  }
 ],
 "metadata": {
  "kernelspec": {
   "display_name": "Python 3 (ipykernel)",
   "language": "python",
   "name": "python3"
  },
  "language_info": {
   "codemirror_mode": {
    "name": "ipython",
    "version": 3
   },
   "file_extension": ".py",
   "mimetype": "text/x-python",
   "name": "python",
   "nbconvert_exporter": "python",
   "pygments_lexer": "ipython3",
   "version": "3.9.1"
  }
 },
 "nbformat": 4,
 "nbformat_minor": 5
}
