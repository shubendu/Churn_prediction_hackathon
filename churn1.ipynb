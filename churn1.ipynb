{
 "cells": [
  {
   "cell_type": "code",
   "execution_count": 2,
   "id": "eee1f6c2",
   "metadata": {},
   "outputs": [],
   "source": [
    "import pandas as pd\n",
    "from sklearn.model_selection import train_test_split\n",
    "import matplotlib.pyplot as plt\n",
    "import numpy as np\n",
    "from sklearn.metrics import log_loss, confusion_matrix\n",
    "import seaborn as sns\n",
    "from sklearn.preprocessing import StandardScaler\n",
    "from sklearn.neighbors import KNeighborsClassifier\n",
    "from sklearn.linear_model import SGDClassifier\n",
    "from sklearn.ensemble import RandomForestClassifier\n",
    "from sklearn.model_selection import GridSearchCV\n",
    "from sklearn.metrics import roc_curve, auc , precision_score , classification_report\n",
    "from sklearn.linear_model import LogisticRegression\n",
    "# from xgboost import XGBClassifier\n",
    "from sklearn.tree import DecisionTreeClassifier\n",
    "from sklearn.ensemble import AdaBoostClassifier\n",
    "import warnings\n",
    "warnings.filterwarnings('ignore')\n",
    "import warnings\n",
    "from sklearn.svm import SVC\n",
    "from sklearn.model_selection import KFold\n",
    "from collections import Counter, defaultdict\n",
    "from sklearn.calibration import CalibratedClassifierCV\n",
    "from sklearn.naive_bayes import MultinomialNB\n",
    "from sklearn.naive_bayes import GaussianNB\n",
    "from sklearn.model_selection import train_test_split\n",
    "from sklearn.model_selection import GridSearchCV\n",
    "from sklearn.ensemble import RandomForestClassifier\n",
    "# from mlxtend.classifier import StackingClassifier\n",
    "from sklearn import model_selection\n",
    "from sklearn.linear_model import LogisticRegression"
   ]
  },
  {
   "cell_type": "code",
   "execution_count": 3,
   "id": "5345e09a",
   "metadata": {},
   "outputs": [],
   "source": [
    "df = pd.read_csv('train_PDjVQMB.csv')"
   ]
  },
  {
   "cell_type": "code",
   "execution_count": 4,
   "id": "c1476df7",
   "metadata": {},
   "outputs": [
    {
     "data": {
      "text/html": [
       "<div>\n",
       "<style scoped>\n",
       "    .dataframe tbody tr th:only-of-type {\n",
       "        vertical-align: middle;\n",
       "    }\n",
       "\n",
       "    .dataframe tbody tr th {\n",
       "        vertical-align: top;\n",
       "    }\n",
       "\n",
       "    .dataframe thead th {\n",
       "        text-align: right;\n",
       "    }\n",
       "</style>\n",
       "<table border=\"1\" class=\"dataframe\">\n",
       "  <thead>\n",
       "    <tr style=\"text-align: right;\">\n",
       "      <th></th>\n",
       "      <th>ID</th>\n",
       "      <th>Age</th>\n",
       "      <th>Gender</th>\n",
       "      <th>Income</th>\n",
       "      <th>Balance</th>\n",
       "      <th>Vintage</th>\n",
       "      <th>Transaction_Status</th>\n",
       "      <th>Product_Holdings</th>\n",
       "      <th>Credit_Card</th>\n",
       "      <th>Credit_Category</th>\n",
       "      <th>Is_Churn</th>\n",
       "    </tr>\n",
       "  </thead>\n",
       "  <tbody>\n",
       "    <tr>\n",
       "      <th>0</th>\n",
       "      <td>84e2fcc9</td>\n",
       "      <td>36</td>\n",
       "      <td>Female</td>\n",
       "      <td>5L - 10L</td>\n",
       "      <td>563266.44</td>\n",
       "      <td>4</td>\n",
       "      <td>0</td>\n",
       "      <td>1</td>\n",
       "      <td>0</td>\n",
       "      <td>Average</td>\n",
       "      <td>1</td>\n",
       "    </tr>\n",
       "    <tr>\n",
       "      <th>1</th>\n",
       "      <td>57fea15e</td>\n",
       "      <td>53</td>\n",
       "      <td>Female</td>\n",
       "      <td>Less than 5L</td>\n",
       "      <td>875572.11</td>\n",
       "      <td>2</td>\n",
       "      <td>1</td>\n",
       "      <td>1</td>\n",
       "      <td>1</td>\n",
       "      <td>Poor</td>\n",
       "      <td>0</td>\n",
       "    </tr>\n",
       "    <tr>\n",
       "      <th>2</th>\n",
       "      <td>8df34ef3</td>\n",
       "      <td>35</td>\n",
       "      <td>Female</td>\n",
       "      <td>More than 15L</td>\n",
       "      <td>701607.06</td>\n",
       "      <td>2</td>\n",
       "      <td>1</td>\n",
       "      <td>2</td>\n",
       "      <td>0</td>\n",
       "      <td>Poor</td>\n",
       "      <td>0</td>\n",
       "    </tr>\n",
       "    <tr>\n",
       "      <th>3</th>\n",
       "      <td>c5c0788b</td>\n",
       "      <td>43</td>\n",
       "      <td>Female</td>\n",
       "      <td>More than 15L</td>\n",
       "      <td>1393922.16</td>\n",
       "      <td>0</td>\n",
       "      <td>1</td>\n",
       "      <td>2</td>\n",
       "      <td>1</td>\n",
       "      <td>Poor</td>\n",
       "      <td>1</td>\n",
       "    </tr>\n",
       "    <tr>\n",
       "      <th>4</th>\n",
       "      <td>951d69c4</td>\n",
       "      <td>39</td>\n",
       "      <td>Female</td>\n",
       "      <td>More than 15L</td>\n",
       "      <td>893146.23</td>\n",
       "      <td>1</td>\n",
       "      <td>1</td>\n",
       "      <td>1</td>\n",
       "      <td>1</td>\n",
       "      <td>Good</td>\n",
       "      <td>1</td>\n",
       "    </tr>\n",
       "    <tr>\n",
       "      <th>...</th>\n",
       "      <td>...</td>\n",
       "      <td>...</td>\n",
       "      <td>...</td>\n",
       "      <td>...</td>\n",
       "      <td>...</td>\n",
       "      <td>...</td>\n",
       "      <td>...</td>\n",
       "      <td>...</td>\n",
       "      <td>...</td>\n",
       "      <td>...</td>\n",
       "      <td>...</td>\n",
       "    </tr>\n",
       "    <tr>\n",
       "      <th>6645</th>\n",
       "      <td>a8216afd</td>\n",
       "      <td>61</td>\n",
       "      <td>Male</td>\n",
       "      <td>5L - 10L</td>\n",
       "      <td>1354526.19</td>\n",
       "      <td>4</td>\n",
       "      <td>1</td>\n",
       "      <td>2</td>\n",
       "      <td>1</td>\n",
       "      <td>Poor</td>\n",
       "      <td>1</td>\n",
       "    </tr>\n",
       "    <tr>\n",
       "      <th>6646</th>\n",
       "      <td>153a306b</td>\n",
       "      <td>42</td>\n",
       "      <td>Female</td>\n",
       "      <td>5L - 10L</td>\n",
       "      <td>596286.54</td>\n",
       "      <td>3</td>\n",
       "      <td>1</td>\n",
       "      <td>2</td>\n",
       "      <td>1</td>\n",
       "      <td>Average</td>\n",
       "      <td>0</td>\n",
       "    </tr>\n",
       "    <tr>\n",
       "      <th>6647</th>\n",
       "      <td>d4075a95</td>\n",
       "      <td>29</td>\n",
       "      <td>Male</td>\n",
       "      <td>Less than 5L</td>\n",
       "      <td>979298.19</td>\n",
       "      <td>2</td>\n",
       "      <td>0</td>\n",
       "      <td>2</td>\n",
       "      <td>0</td>\n",
       "      <td>Poor</td>\n",
       "      <td>0</td>\n",
       "    </tr>\n",
       "    <tr>\n",
       "      <th>6648</th>\n",
       "      <td>5855b142</td>\n",
       "      <td>66</td>\n",
       "      <td>Female</td>\n",
       "      <td>10L - 15L</td>\n",
       "      <td>395233.65</td>\n",
       "      <td>3</td>\n",
       "      <td>0</td>\n",
       "      <td>2</td>\n",
       "      <td>1</td>\n",
       "      <td>Poor</td>\n",
       "      <td>1</td>\n",
       "    </tr>\n",
       "    <tr>\n",
       "      <th>6649</th>\n",
       "      <td>57b39511</td>\n",
       "      <td>37</td>\n",
       "      <td>Male</td>\n",
       "      <td>More than 15L</td>\n",
       "      <td>826947.27</td>\n",
       "      <td>1</td>\n",
       "      <td>1</td>\n",
       "      <td>2</td>\n",
       "      <td>0</td>\n",
       "      <td>Good</td>\n",
       "      <td>0</td>\n",
       "    </tr>\n",
       "  </tbody>\n",
       "</table>\n",
       "<p>6650 rows × 11 columns</p>\n",
       "</div>"
      ],
      "text/plain": [
       "            ID  Age  Gender         Income     Balance  Vintage  \\\n",
       "0     84e2fcc9   36  Female       5L - 10L   563266.44        4   \n",
       "1     57fea15e   53  Female   Less than 5L   875572.11        2   \n",
       "2     8df34ef3   35  Female  More than 15L   701607.06        2   \n",
       "3     c5c0788b   43  Female  More than 15L  1393922.16        0   \n",
       "4     951d69c4   39  Female  More than 15L   893146.23        1   \n",
       "...        ...  ...     ...            ...         ...      ...   \n",
       "6645  a8216afd   61    Male       5L - 10L  1354526.19        4   \n",
       "6646  153a306b   42  Female       5L - 10L   596286.54        3   \n",
       "6647  d4075a95   29    Male   Less than 5L   979298.19        2   \n",
       "6648  5855b142   66  Female      10L - 15L   395233.65        3   \n",
       "6649  57b39511   37    Male  More than 15L   826947.27        1   \n",
       "\n",
       "      Transaction_Status Product_Holdings  Credit_Card Credit_Category  \\\n",
       "0                      0                1            0         Average   \n",
       "1                      1                1            1            Poor   \n",
       "2                      1                2            0            Poor   \n",
       "3                      1                2            1            Poor   \n",
       "4                      1                1            1            Good   \n",
       "...                  ...              ...          ...             ...   \n",
       "6645                   1                2            1            Poor   \n",
       "6646                   1                2            1         Average   \n",
       "6647                   0                2            0            Poor   \n",
       "6648                   0                2            1            Poor   \n",
       "6649                   1                2            0            Good   \n",
       "\n",
       "      Is_Churn  \n",
       "0            1  \n",
       "1            0  \n",
       "2            0  \n",
       "3            1  \n",
       "4            1  \n",
       "...        ...  \n",
       "6645         1  \n",
       "6646         0  \n",
       "6647         0  \n",
       "6648         1  \n",
       "6649         0  \n",
       "\n",
       "[6650 rows x 11 columns]"
      ]
     },
     "execution_count": 4,
     "metadata": {},
     "output_type": "execute_result"
    }
   ],
   "source": [
    "df"
   ]
  },
  {
   "cell_type": "code",
   "execution_count": 5,
   "id": "2a5acf83",
   "metadata": {},
   "outputs": [
    {
     "data": {
      "text/plain": [
       "ID                     object\n",
       "Age                     int64\n",
       "Gender                 object\n",
       "Income                 object\n",
       "Balance               float64\n",
       "Vintage                 int64\n",
       "Transaction_Status      int64\n",
       "Product_Holdings       object\n",
       "Credit_Card             int64\n",
       "Credit_Category        object\n",
       "Is_Churn                int64\n",
       "dtype: object"
      ]
     },
     "execution_count": 5,
     "metadata": {},
     "output_type": "execute_result"
    }
   ],
   "source": [
    "df.dtypes"
   ]
  },
  {
   "cell_type": "code",
   "execution_count": 6,
   "id": "b6ca9c69",
   "metadata": {},
   "outputs": [
    {
     "data": {
      "text/plain": [
       "Male      3612\n",
       "Female    3038\n",
       "Name: Gender, dtype: int64"
      ]
     },
     "execution_count": 6,
     "metadata": {},
     "output_type": "execute_result"
    }
   ],
   "source": [
    "df.Gender.value_counts()"
   ]
  },
  {
   "cell_type": "code",
   "execution_count": 7,
   "id": "6fc683d2",
   "metadata": {},
   "outputs": [
    {
     "data": {
      "text/plain": [
       "10L - 15L        1885\n",
       "5L - 10L         1847\n",
       "Less than 5L     1573\n",
       "More than 15L    1345\n",
       "Name: Income, dtype: int64"
      ]
     },
     "execution_count": 7,
     "metadata": {},
     "output_type": "execute_result"
    }
   ],
   "source": [
    "df.Income.value_counts()"
   ]
  },
  {
   "cell_type": "code",
   "execution_count": 8,
   "id": "b3951977",
   "metadata": {},
   "outputs": [
    {
     "data": {
      "text/plain": [
       "Poor       3076\n",
       "Average    2043\n",
       "Good       1531\n",
       "Name: Credit_Category, dtype: int64"
      ]
     },
     "execution_count": 8,
     "metadata": {},
     "output_type": "execute_result"
    }
   ],
   "source": [
    "df.Credit_Category.value_counts()"
   ]
  },
  {
   "cell_type": "code",
   "execution_count": 9,
   "id": "2ee68bca",
   "metadata": {},
   "outputs": [
    {
     "data": {
      "text/plain": [
       "0    5113\n",
       "1    1537\n",
       "Name: Is_Churn, dtype: int64"
      ]
     },
     "execution_count": 9,
     "metadata": {},
     "output_type": "execute_result"
    }
   ],
   "source": [
    "df.Is_Churn.value_counts()"
   ]
  },
  {
   "cell_type": "code",
   "execution_count": null,
   "id": "b4bc1305",
   "metadata": {},
   "outputs": [],
   "source": []
  },
  {
   "cell_type": "code",
   "execution_count": 10,
   "id": "8231e76a",
   "metadata": {},
   "outputs": [
    {
     "data": {
      "text/plain": [
       "1     3200\n",
       "2     3182\n",
       "3+     268\n",
       "Name: Product_Holdings, dtype: int64"
      ]
     },
     "execution_count": 10,
     "metadata": {},
     "output_type": "execute_result"
    }
   ],
   "source": [
    "df.Product_Holdings.value_counts()"
   ]
  },
  {
   "cell_type": "markdown",
   "id": "4295c3b6",
   "metadata": {},
   "source": [
    "# Label Encoding"
   ]
  },
  {
   "cell_type": "code",
   "execution_count": 14,
   "id": "50c05b59",
   "metadata": {},
   "outputs": [
    {
     "data": {
      "text/plain": [
       "array([0, 1])"
      ]
     },
     "execution_count": 14,
     "metadata": {},
     "output_type": "execute_result"
    }
   ],
   "source": [
    "from sklearn.preprocessing import LabelEncoder\n",
    "label_encoder = LabelEncoder()\n",
    "\n",
    "df.Gender= label_encoder.fit_transform(df.Gender)\n",
    " \n",
    "df.Gender.unique()"
   ]
  },
  {
   "cell_type": "code",
   "execution_count": 15,
   "id": "be7be803",
   "metadata": {},
   "outputs": [
    {
     "data": {
      "text/plain": [
       "array([1, 2, 3, 0])"
      ]
     },
     "execution_count": 15,
     "metadata": {},
     "output_type": "execute_result"
    }
   ],
   "source": [
    "df.Income = label_encoder.fit_transform(df.Income)\n",
    " \n",
    "df.Income.unique()"
   ]
  },
  {
   "cell_type": "code",
   "execution_count": 16,
   "id": "21cafaf1",
   "metadata": {},
   "outputs": [
    {
     "data": {
      "text/plain": [
       "array([0, 2, 1])"
      ]
     },
     "execution_count": 16,
     "metadata": {},
     "output_type": "execute_result"
    }
   ],
   "source": [
    "df.Credit_Category = label_encoder.fit_transform(df.Credit_Category)\n",
    " \n",
    "df.Credit_Category.unique()"
   ]
  },
  {
   "cell_type": "code",
   "execution_count": 17,
   "id": "030c3c44",
   "metadata": {},
   "outputs": [
    {
     "data": {
      "text/plain": [
       "array([0, 1, 2])"
      ]
     },
     "execution_count": 17,
     "metadata": {},
     "output_type": "execute_result"
    }
   ],
   "source": [
    "df.Product_Holdings = label_encoder.fit_transform(df.Product_Holdings)\n",
    " \n",
    "df.Product_Holdings.unique()"
   ]
  },
  {
   "cell_type": "code",
   "execution_count": 18,
   "id": "af4619a7",
   "metadata": {},
   "outputs": [
    {
     "data": {
      "text/html": [
       "<div>\n",
       "<style scoped>\n",
       "    .dataframe tbody tr th:only-of-type {\n",
       "        vertical-align: middle;\n",
       "    }\n",
       "\n",
       "    .dataframe tbody tr th {\n",
       "        vertical-align: top;\n",
       "    }\n",
       "\n",
       "    .dataframe thead th {\n",
       "        text-align: right;\n",
       "    }\n",
       "</style>\n",
       "<table border=\"1\" class=\"dataframe\">\n",
       "  <thead>\n",
       "    <tr style=\"text-align: right;\">\n",
       "      <th></th>\n",
       "      <th>Age</th>\n",
       "      <th>Gender</th>\n",
       "      <th>Income</th>\n",
       "      <th>Balance</th>\n",
       "      <th>Vintage</th>\n",
       "      <th>Transaction_Status</th>\n",
       "      <th>Product_Holdings</th>\n",
       "      <th>Credit_Card</th>\n",
       "      <th>Credit_Category</th>\n",
       "      <th>Is_Churn</th>\n",
       "    </tr>\n",
       "  </thead>\n",
       "  <tbody>\n",
       "    <tr>\n",
       "      <th>0</th>\n",
       "      <td>36</td>\n",
       "      <td>0</td>\n",
       "      <td>1</td>\n",
       "      <td>563266.44</td>\n",
       "      <td>4</td>\n",
       "      <td>0</td>\n",
       "      <td>0</td>\n",
       "      <td>0</td>\n",
       "      <td>0</td>\n",
       "      <td>1</td>\n",
       "    </tr>\n",
       "    <tr>\n",
       "      <th>1</th>\n",
       "      <td>53</td>\n",
       "      <td>0</td>\n",
       "      <td>2</td>\n",
       "      <td>875572.11</td>\n",
       "      <td>2</td>\n",
       "      <td>1</td>\n",
       "      <td>0</td>\n",
       "      <td>1</td>\n",
       "      <td>2</td>\n",
       "      <td>0</td>\n",
       "    </tr>\n",
       "    <tr>\n",
       "      <th>2</th>\n",
       "      <td>35</td>\n",
       "      <td>0</td>\n",
       "      <td>3</td>\n",
       "      <td>701607.06</td>\n",
       "      <td>2</td>\n",
       "      <td>1</td>\n",
       "      <td>1</td>\n",
       "      <td>0</td>\n",
       "      <td>2</td>\n",
       "      <td>0</td>\n",
       "    </tr>\n",
       "    <tr>\n",
       "      <th>3</th>\n",
       "      <td>43</td>\n",
       "      <td>0</td>\n",
       "      <td>3</td>\n",
       "      <td>1393922.16</td>\n",
       "      <td>0</td>\n",
       "      <td>1</td>\n",
       "      <td>1</td>\n",
       "      <td>1</td>\n",
       "      <td>2</td>\n",
       "      <td>1</td>\n",
       "    </tr>\n",
       "    <tr>\n",
       "      <th>4</th>\n",
       "      <td>39</td>\n",
       "      <td>0</td>\n",
       "      <td>3</td>\n",
       "      <td>893146.23</td>\n",
       "      <td>1</td>\n",
       "      <td>1</td>\n",
       "      <td>0</td>\n",
       "      <td>1</td>\n",
       "      <td>1</td>\n",
       "      <td>1</td>\n",
       "    </tr>\n",
       "    <tr>\n",
       "      <th>...</th>\n",
       "      <td>...</td>\n",
       "      <td>...</td>\n",
       "      <td>...</td>\n",
       "      <td>...</td>\n",
       "      <td>...</td>\n",
       "      <td>...</td>\n",
       "      <td>...</td>\n",
       "      <td>...</td>\n",
       "      <td>...</td>\n",
       "      <td>...</td>\n",
       "    </tr>\n",
       "    <tr>\n",
       "      <th>6645</th>\n",
       "      <td>61</td>\n",
       "      <td>1</td>\n",
       "      <td>1</td>\n",
       "      <td>1354526.19</td>\n",
       "      <td>4</td>\n",
       "      <td>1</td>\n",
       "      <td>1</td>\n",
       "      <td>1</td>\n",
       "      <td>2</td>\n",
       "      <td>1</td>\n",
       "    </tr>\n",
       "    <tr>\n",
       "      <th>6646</th>\n",
       "      <td>42</td>\n",
       "      <td>0</td>\n",
       "      <td>1</td>\n",
       "      <td>596286.54</td>\n",
       "      <td>3</td>\n",
       "      <td>1</td>\n",
       "      <td>1</td>\n",
       "      <td>1</td>\n",
       "      <td>0</td>\n",
       "      <td>0</td>\n",
       "    </tr>\n",
       "    <tr>\n",
       "      <th>6647</th>\n",
       "      <td>29</td>\n",
       "      <td>1</td>\n",
       "      <td>2</td>\n",
       "      <td>979298.19</td>\n",
       "      <td>2</td>\n",
       "      <td>0</td>\n",
       "      <td>1</td>\n",
       "      <td>0</td>\n",
       "      <td>2</td>\n",
       "      <td>0</td>\n",
       "    </tr>\n",
       "    <tr>\n",
       "      <th>6648</th>\n",
       "      <td>66</td>\n",
       "      <td>0</td>\n",
       "      <td>0</td>\n",
       "      <td>395233.65</td>\n",
       "      <td>3</td>\n",
       "      <td>0</td>\n",
       "      <td>1</td>\n",
       "      <td>1</td>\n",
       "      <td>2</td>\n",
       "      <td>1</td>\n",
       "    </tr>\n",
       "    <tr>\n",
       "      <th>6649</th>\n",
       "      <td>37</td>\n",
       "      <td>1</td>\n",
       "      <td>3</td>\n",
       "      <td>826947.27</td>\n",
       "      <td>1</td>\n",
       "      <td>1</td>\n",
       "      <td>1</td>\n",
       "      <td>0</td>\n",
       "      <td>1</td>\n",
       "      <td>0</td>\n",
       "    </tr>\n",
       "  </tbody>\n",
       "</table>\n",
       "<p>6650 rows × 10 columns</p>\n",
       "</div>"
      ],
      "text/plain": [
       "      Age  Gender  Income     Balance  Vintage  Transaction_Status  \\\n",
       "0      36       0       1   563266.44        4                   0   \n",
       "1      53       0       2   875572.11        2                   1   \n",
       "2      35       0       3   701607.06        2                   1   \n",
       "3      43       0       3  1393922.16        0                   1   \n",
       "4      39       0       3   893146.23        1                   1   \n",
       "...   ...     ...     ...         ...      ...                 ...   \n",
       "6645   61       1       1  1354526.19        4                   1   \n",
       "6646   42       0       1   596286.54        3                   1   \n",
       "6647   29       1       2   979298.19        2                   0   \n",
       "6648   66       0       0   395233.65        3                   0   \n",
       "6649   37       1       3   826947.27        1                   1   \n",
       "\n",
       "      Product_Holdings  Credit_Card  Credit_Category  Is_Churn  \n",
       "0                    0            0                0         1  \n",
       "1                    0            1                2         0  \n",
       "2                    1            0                2         0  \n",
       "3                    1            1                2         1  \n",
       "4                    0            1                1         1  \n",
       "...                ...          ...              ...       ...  \n",
       "6645                 1            1                2         1  \n",
       "6646                 1            1                0         0  \n",
       "6647                 1            0                2         0  \n",
       "6648                 1            1                2         1  \n",
       "6649                 1            0                1         0  \n",
       "\n",
       "[6650 rows x 10 columns]"
      ]
     },
     "execution_count": 18,
     "metadata": {},
     "output_type": "execute_result"
    }
   ],
   "source": [
    "df =  df.drop('ID',1)\n",
    "df"
   ]
  },
  {
   "cell_type": "code",
   "execution_count": 19,
   "id": "93c5cdb6",
   "metadata": {},
   "outputs": [
    {
     "data": {
      "text/plain": [
       "Age                     int64\n",
       "Gender                  int32\n",
       "Income                  int32\n",
       "Balance               float64\n",
       "Vintage                 int64\n",
       "Transaction_Status      int64\n",
       "Product_Holdings        int32\n",
       "Credit_Card             int64\n",
       "Credit_Category         int32\n",
       "Is_Churn                int64\n",
       "dtype: object"
      ]
     },
     "execution_count": 19,
     "metadata": {},
     "output_type": "execute_result"
    }
   ],
   "source": [
    "df.dtypes"
   ]
  },
  {
   "cell_type": "code",
   "execution_count": 20,
   "id": "26133d53",
   "metadata": {},
   "outputs": [],
   "source": [
    "X = df.drop('Is_Churn',1)\n",
    "Y = df.Is_Churn\n",
    "X_train, X_test, y_train, y_test = train_test_split(X, Y, stratify = Y, test_size = 0.3,random_state=49)"
   ]
  },
  {
   "cell_type": "code",
   "execution_count": 21,
   "id": "fa3b4de0",
   "metadata": {},
   "outputs": [
    {
     "data": {
      "text/plain": [
       "0    3579\n",
       "1    1076\n",
       "Name: Is_Churn, dtype: int64"
      ]
     },
     "execution_count": 21,
     "metadata": {},
     "output_type": "execute_result"
    }
   ],
   "source": [
    "y_train.value_counts()"
   ]
  },
  {
   "cell_type": "code",
   "execution_count": 22,
   "id": "187c6e4a",
   "metadata": {},
   "outputs": [
    {
     "data": {
      "text/plain": [
       "0    1534\n",
       "1     461\n",
       "Name: Is_Churn, dtype: int64"
      ]
     },
     "execution_count": 22,
     "metadata": {},
     "output_type": "execute_result"
    }
   ],
   "source": [
    "y_test.value_counts()"
   ]
  },
  {
   "cell_type": "code",
   "execution_count": 23,
   "id": "6fff708d",
   "metadata": {},
   "outputs": [
    {
     "data": {
      "text/plain": [
       "['Age',\n",
       " 'Gender',\n",
       " 'Income',\n",
       " 'Balance',\n",
       " 'Vintage',\n",
       " 'Transaction_Status',\n",
       " 'Product_Holdings',\n",
       " 'Credit_Card',\n",
       " 'Credit_Category']"
      ]
     },
     "execution_count": 23,
     "metadata": {},
     "output_type": "execute_result"
    }
   ],
   "source": [
    "cols = list(X_train.columns)\n",
    "cols"
   ]
  },
  {
   "cell_type": "code",
   "execution_count": 91,
   "id": "27baa85d",
   "metadata": {},
   "outputs": [],
   "source": [
    "scalar = StandardScaler(with_mean=False)\n",
    "scale_all = scalar.fit_transform(X)\n",
    "filename = \"scalerr\"\n",
    "pickle.dump(scalar,open(filename,\"wb\"))"
   ]
  },
  {
   "cell_type": "code",
   "execution_count": 90,
   "id": "fd0ce39a",
   "metadata": {},
   "outputs": [],
   "source": [
    "scalar = StandardScaler(with_mean=False)\n",
    "scale_train = pd.DataFrame(scalar.fit_transform(X_train),columns=cols)\n",
    "scale_test = pd.DataFrame(scalar.transform(X_test),columns=cols)"
   ]
  },
  {
   "cell_type": "code",
   "execution_count": 26,
   "id": "ff898b02",
   "metadata": {},
   "outputs": [],
   "source": []
  },
  {
   "cell_type": "code",
   "execution_count": 27,
   "id": "c3b17adf",
   "metadata": {},
   "outputs": [
    {
     "data": {
      "text/html": [
       "<div>\n",
       "<style scoped>\n",
       "    .dataframe tbody tr th:only-of-type {\n",
       "        vertical-align: middle;\n",
       "    }\n",
       "\n",
       "    .dataframe tbody tr th {\n",
       "        vertical-align: top;\n",
       "    }\n",
       "\n",
       "    .dataframe thead th {\n",
       "        text-align: right;\n",
       "    }\n",
       "</style>\n",
       "<table border=\"1\" class=\"dataframe\">\n",
       "  <thead>\n",
       "    <tr style=\"text-align: right;\">\n",
       "      <th></th>\n",
       "      <th>Age</th>\n",
       "      <th>Gender</th>\n",
       "      <th>Income</th>\n",
       "      <th>Balance</th>\n",
       "      <th>Vintage</th>\n",
       "      <th>Transaction_Status</th>\n",
       "      <th>Product_Holdings</th>\n",
       "      <th>Credit_Card</th>\n",
       "      <th>Credit_Category</th>\n",
       "    </tr>\n",
       "  </thead>\n",
       "  <tbody>\n",
       "    <tr>\n",
       "      <th>0</th>\n",
       "      <td>4.846559</td>\n",
       "      <td>0.000000</td>\n",
       "      <td>0.000000</td>\n",
       "      <td>2.905392</td>\n",
       "      <td>2.757935</td>\n",
       "      <td>2.002177</td>\n",
       "      <td>0.000000</td>\n",
       "      <td>2.107702</td>\n",
       "      <td>2.312362</td>\n",
       "    </tr>\n",
       "    <tr>\n",
       "      <th>1</th>\n",
       "      <td>4.743441</td>\n",
       "      <td>0.000000</td>\n",
       "      <td>0.000000</td>\n",
       "      <td>1.691616</td>\n",
       "      <td>3.447418</td>\n",
       "      <td>2.002177</td>\n",
       "      <td>0.000000</td>\n",
       "      <td>2.107702</td>\n",
       "      <td>0.000000</td>\n",
       "    </tr>\n",
       "    <tr>\n",
       "      <th>2</th>\n",
       "      <td>5.671505</td>\n",
       "      <td>2.006521</td>\n",
       "      <td>0.000000</td>\n",
       "      <td>0.231751</td>\n",
       "      <td>0.000000</td>\n",
       "      <td>0.000000</td>\n",
       "      <td>1.749357</td>\n",
       "      <td>2.107702</td>\n",
       "      <td>2.312362</td>\n",
       "    </tr>\n",
       "    <tr>\n",
       "      <th>3</th>\n",
       "      <td>4.227849</td>\n",
       "      <td>0.000000</td>\n",
       "      <td>0.000000</td>\n",
       "      <td>1.020055</td>\n",
       "      <td>1.378967</td>\n",
       "      <td>2.002177</td>\n",
       "      <td>0.000000</td>\n",
       "      <td>2.107702</td>\n",
       "      <td>0.000000</td>\n",
       "    </tr>\n",
       "    <tr>\n",
       "      <th>4</th>\n",
       "      <td>3.402903</td>\n",
       "      <td>2.006521</td>\n",
       "      <td>0.000000</td>\n",
       "      <td>2.581366</td>\n",
       "      <td>1.378967</td>\n",
       "      <td>0.000000</td>\n",
       "      <td>1.749357</td>\n",
       "      <td>2.107702</td>\n",
       "      <td>2.312362</td>\n",
       "    </tr>\n",
       "    <tr>\n",
       "      <th>...</th>\n",
       "      <td>...</td>\n",
       "      <td>...</td>\n",
       "      <td>...</td>\n",
       "      <td>...</td>\n",
       "      <td>...</td>\n",
       "      <td>...</td>\n",
       "      <td>...</td>\n",
       "      <td>...</td>\n",
       "      <td>...</td>\n",
       "    </tr>\n",
       "    <tr>\n",
       "      <th>1990</th>\n",
       "      <td>5.259032</td>\n",
       "      <td>2.006521</td>\n",
       "      <td>0.911616</td>\n",
       "      <td>1.857763</td>\n",
       "      <td>2.068451</td>\n",
       "      <td>0.000000</td>\n",
       "      <td>0.000000</td>\n",
       "      <td>2.107702</td>\n",
       "      <td>0.000000</td>\n",
       "    </tr>\n",
       "    <tr>\n",
       "      <th>1991</th>\n",
       "      <td>3.815376</td>\n",
       "      <td>0.000000</td>\n",
       "      <td>1.823232</td>\n",
       "      <td>0.745221</td>\n",
       "      <td>2.757935</td>\n",
       "      <td>2.002177</td>\n",
       "      <td>0.000000</td>\n",
       "      <td>2.107702</td>\n",
       "      <td>2.312362</td>\n",
       "    </tr>\n",
       "    <tr>\n",
       "      <th>1992</th>\n",
       "      <td>4.227849</td>\n",
       "      <td>2.006521</td>\n",
       "      <td>2.734848</td>\n",
       "      <td>0.065786</td>\n",
       "      <td>1.378967</td>\n",
       "      <td>0.000000</td>\n",
       "      <td>1.749357</td>\n",
       "      <td>0.000000</td>\n",
       "      <td>2.312362</td>\n",
       "    </tr>\n",
       "    <tr>\n",
       "      <th>1993</th>\n",
       "      <td>5.155914</td>\n",
       "      <td>0.000000</td>\n",
       "      <td>0.911616</td>\n",
       "      <td>1.673185</td>\n",
       "      <td>0.689484</td>\n",
       "      <td>0.000000</td>\n",
       "      <td>1.749357</td>\n",
       "      <td>0.000000</td>\n",
       "      <td>0.000000</td>\n",
       "    </tr>\n",
       "    <tr>\n",
       "      <th>1994</th>\n",
       "      <td>4.640323</td>\n",
       "      <td>2.006521</td>\n",
       "      <td>0.911616</td>\n",
       "      <td>1.447558</td>\n",
       "      <td>1.378967</td>\n",
       "      <td>0.000000</td>\n",
       "      <td>0.000000</td>\n",
       "      <td>2.107702</td>\n",
       "      <td>2.312362</td>\n",
       "    </tr>\n",
       "  </tbody>\n",
       "</table>\n",
       "<p>1995 rows × 9 columns</p>\n",
       "</div>"
      ],
      "text/plain": [
       "           Age    Gender    Income   Balance   Vintage  Transaction_Status  \\\n",
       "0     4.846559  0.000000  0.000000  2.905392  2.757935            2.002177   \n",
       "1     4.743441  0.000000  0.000000  1.691616  3.447418            2.002177   \n",
       "2     5.671505  2.006521  0.000000  0.231751  0.000000            0.000000   \n",
       "3     4.227849  0.000000  0.000000  1.020055  1.378967            2.002177   \n",
       "4     3.402903  2.006521  0.000000  2.581366  1.378967            0.000000   \n",
       "...        ...       ...       ...       ...       ...                 ...   \n",
       "1990  5.259032  2.006521  0.911616  1.857763  2.068451            0.000000   \n",
       "1991  3.815376  0.000000  1.823232  0.745221  2.757935            2.002177   \n",
       "1992  4.227849  2.006521  2.734848  0.065786  1.378967            0.000000   \n",
       "1993  5.155914  0.000000  0.911616  1.673185  0.689484            0.000000   \n",
       "1994  4.640323  2.006521  0.911616  1.447558  1.378967            0.000000   \n",
       "\n",
       "      Product_Holdings  Credit_Card  Credit_Category  \n",
       "0             0.000000     2.107702         2.312362  \n",
       "1             0.000000     2.107702         0.000000  \n",
       "2             1.749357     2.107702         2.312362  \n",
       "3             0.000000     2.107702         0.000000  \n",
       "4             1.749357     2.107702         2.312362  \n",
       "...                ...          ...              ...  \n",
       "1990          0.000000     2.107702         0.000000  \n",
       "1991          0.000000     2.107702         2.312362  \n",
       "1992          1.749357     0.000000         2.312362  \n",
       "1993          1.749357     0.000000         0.000000  \n",
       "1994          0.000000     2.107702         2.312362  \n",
       "\n",
       "[1995 rows x 9 columns]"
      ]
     },
     "execution_count": 27,
     "metadata": {},
     "output_type": "execute_result"
    }
   ],
   "source": [
    "scale_test"
   ]
  },
  {
   "cell_type": "code",
   "execution_count": 28,
   "id": "b569433e",
   "metadata": {},
   "outputs": [],
   "source": [
    "final_train_res = scale_train\n",
    "final_test_res = scale_test"
   ]
  },
  {
   "cell_type": "code",
   "execution_count": 95,
   "id": "b7d91ddb",
   "metadata": {},
   "outputs": [
    {
     "ename": "ImportError",
     "evalue": "cannot import name 'RedsdaspeatedStratifiedKFold' from 'sklearn.model_selection' (c:\\users\\snake\\appdata\\local\\programs\\python\\python39\\lib\\site-packages\\sklearn\\model_selection\\__init__.py)",
     "output_type": "error",
     "traceback": [
      "\u001b[1;31m---------------------------------------------------------------------------\u001b[0m",
      "\u001b[1;31mImportError\u001b[0m                               Traceback (most recent call last)",
      "\u001b[1;32m~\\AppData\\Local\\Temp/ipykernel_7436/3638709388.py\u001b[0m in \u001b[0;36m<module>\u001b[1;34m\u001b[0m\n\u001b[1;32m----> 1\u001b[1;33m \u001b[1;32mfrom\u001b[0m \u001b[0msklearn\u001b[0m\u001b[1;33m.\u001b[0m\u001b[0mmodel_selection\u001b[0m \u001b[1;32mimport\u001b[0m \u001b[0mRedsdaspeatedStratifiedKFold\u001b[0m\u001b[1;33m\u001b[0m\u001b[1;33m\u001b[0m\u001b[0m\n\u001b[0m\u001b[0;32m      2\u001b[0m \u001b[1;32mfrom\u001b[0m \u001b[0msklearn\u001b[0m\u001b[1;33m.\u001b[0m\u001b[0mmodel_selection\u001b[0m \u001b[1;32mimport\u001b[0m \u001b[0mGridSearchCV\u001b[0m\u001b[1;33m\u001b[0m\u001b[1;33m\u001b[0m\u001b[0m\n\u001b[0;32m      3\u001b[0m \u001b[1;32mfrom\u001b[0m \u001b[0msklearn\u001b[0m\u001b[1;33m.\u001b[0m\u001b[0mlinear_model\u001b[0m \u001b[1;32mimport\u001b[0m \u001b[0mLogisticRegression\u001b[0m\u001b[1;33m\u001b[0m\u001b[1;33m\u001b[0m\u001b[0m\n",
      "\u001b[1;31mImportError\u001b[0m: cannot import name 'RedsdaspeatedStratifiedKFold' from 'sklearn.model_selection' (c:\\users\\snake\\appdata\\local\\programs\\python\\python39\\lib\\site-packages\\sklearn\\model_selection\\__init__.py)"
     ]
    }
   ],
   "source": [
    "from sklearn.model_selection import RedsdaspeatedStratifiedKFold\n",
    "from sklearn.model_selection import GridSearchCV\n",
    "from sklearn.linear_model import LogisticRegression"
   ]
  },
  {
   "cell_type": "code",
   "execution_count": 68,
   "id": "4b08a81f",
   "metadata": {},
   "outputs": [
    {
     "name": "stdout",
     "output_type": "stream",
     "text": [
      "Best: 0.569195 using {'C': 0.001, 'class_weight': 'balanced', 'penalty': 'l2', 'solver': 'newton-cg'}\n",
      "0.568570 (0.019777) with: {'C': 100, 'class_weight': 'balanced', 'penalty': 'l2', 'solver': 'newton-cg'}\n",
      "0.568570 (0.019777) with: {'C': 100, 'class_weight': 'balanced', 'penalty': 'l2', 'solver': 'lbfgs'}\n",
      "0.568570 (0.019777) with: {'C': 100, 'class_weight': 'balanced', 'penalty': 'l2', 'solver': 'liblinear'}\n",
      "0.468576 (0.022384) with: {'C': 100, 'class_weight': 'None', 'penalty': 'l2', 'solver': 'newton-cg'}\n",
      "0.468576 (0.022384) with: {'C': 100, 'class_weight': 'None', 'penalty': 'l2', 'solver': 'lbfgs'}\n",
      "0.000000 (0.000000) with: {'C': 100, 'class_weight': 'None', 'penalty': 'l2', 'solver': 'liblinear'}\n",
      "0.568625 (0.019738) with: {'C': 10, 'class_weight': 'balanced', 'penalty': 'l2', 'solver': 'newton-cg'}\n",
      "0.568625 (0.019738) with: {'C': 10, 'class_weight': 'balanced', 'penalty': 'l2', 'solver': 'lbfgs'}\n",
      "0.568412 (0.019955) with: {'C': 10, 'class_weight': 'balanced', 'penalty': 'l2', 'solver': 'liblinear'}\n",
      "0.468274 (0.022710) with: {'C': 10, 'class_weight': 'None', 'penalty': 'l2', 'solver': 'newton-cg'}\n",
      "0.468274 (0.022710) with: {'C': 10, 'class_weight': 'None', 'penalty': 'l2', 'solver': 'lbfgs'}\n",
      "0.000000 (0.000000) with: {'C': 10, 'class_weight': 'None', 'penalty': 'l2', 'solver': 'liblinear'}\n",
      "0.568625 (0.019738) with: {'C': 1.0, 'class_weight': 'balanced', 'penalty': 'l2', 'solver': 'newton-cg'}\n",
      "0.568625 (0.019738) with: {'C': 1.0, 'class_weight': 'balanced', 'penalty': 'l2', 'solver': 'lbfgs'}\n",
      "0.567555 (0.019503) with: {'C': 1.0, 'class_weight': 'balanced', 'penalty': 'l2', 'solver': 'liblinear'}\n",
      "0.468307 (0.022710) with: {'C': 1.0, 'class_weight': 'None', 'penalty': 'l2', 'solver': 'newton-cg'}\n",
      "0.468307 (0.022710) with: {'C': 1.0, 'class_weight': 'None', 'penalty': 'l2', 'solver': 'lbfgs'}\n",
      "0.000000 (0.000000) with: {'C': 1.0, 'class_weight': 'None', 'penalty': 'l2', 'solver': 'liblinear'}\n",
      "0.568755 (0.019974) with: {'C': 0.1, 'class_weight': 'balanced', 'penalty': 'l2', 'solver': 'newton-cg'}\n",
      "0.568755 (0.019974) with: {'C': 0.1, 'class_weight': 'balanced', 'penalty': 'l2', 'solver': 'lbfgs'}\n",
      "0.563154 (0.020693) with: {'C': 0.1, 'class_weight': 'balanced', 'penalty': 'l2', 'solver': 'liblinear'}\n",
      "0.466012 (0.020841) with: {'C': 0.1, 'class_weight': 'None', 'penalty': 'l2', 'solver': 'newton-cg'}\n",
      "0.466012 (0.020841) with: {'C': 0.1, 'class_weight': 'None', 'penalty': 'l2', 'solver': 'lbfgs'}\n",
      "0.000000 (0.000000) with: {'C': 0.1, 'class_weight': 'None', 'penalty': 'l2', 'solver': 'liblinear'}\n",
      "0.569178 (0.020574) with: {'C': 0.01, 'class_weight': 'balanced', 'penalty': 'l2', 'solver': 'newton-cg'}\n",
      "0.569121 (0.020563) with: {'C': 0.01, 'class_weight': 'balanced', 'penalty': 'l2', 'solver': 'lbfgs'}\n",
      "0.543223 (0.022763) with: {'C': 0.01, 'class_weight': 'balanced', 'penalty': 'l2', 'solver': 'liblinear'}\n",
      "0.452879 (0.013575) with: {'C': 0.01, 'class_weight': 'None', 'penalty': 'l2', 'solver': 'newton-cg'}\n",
      "0.452879 (0.013575) with: {'C': 0.01, 'class_weight': 'None', 'penalty': 'l2', 'solver': 'lbfgs'}\n",
      "0.000000 (0.000000) with: {'C': 0.01, 'class_weight': 'None', 'penalty': 'l2', 'solver': 'liblinear'}\n",
      "0.569195 (0.019437) with: {'C': 0.001, 'class_weight': 'balanced', 'penalty': 'l2', 'solver': 'newton-cg'}\n",
      "0.569195 (0.019437) with: {'C': 0.001, 'class_weight': 'balanced', 'penalty': 'l2', 'solver': 'lbfgs'}\n",
      "0.519953 (0.021381) with: {'C': 0.001, 'class_weight': 'balanced', 'penalty': 'l2', 'solver': 'liblinear'}\n",
      "0.434661 (0.000276) with: {'C': 0.001, 'class_weight': 'None', 'penalty': 'l2', 'solver': 'newton-cg'}\n",
      "0.434661 (0.000276) with: {'C': 0.001, 'class_weight': 'None', 'penalty': 'l2', 'solver': 'lbfgs'}\n",
      "0.000000 (0.000000) with: {'C': 0.001, 'class_weight': 'None', 'penalty': 'l2', 'solver': 'liblinear'}\n",
      "Wall time: 5.31 s\n"
     ]
    }
   ],
   "source": [
    "%%time\n",
    "model = LogisticRegression(class_weight=\"balanced\")\n",
    "solvers = ['newton-cg', 'lbfgs', 'liblinear']\n",
    "penalty = ['l2']\n",
    "class_weight = ['balanced','None']\n",
    "c_values = [100,10,1.0, 0.1, 0.01, 0.001, ]\n",
    "# define grid search\n",
    "grid = dict(solver=solvers,penalty=penalty,C=c_values,class_weight=class_weight)\n",
    "cv = RepeatedStratifiedKFold(n_splits=10, n_repeats=3, random_state=1)\n",
    "grid_search = GridSearchCV(estimator=model, param_grid=grid, n_jobs=-1, cv=cv, scoring='f1_macro',error_score=0)\n",
    "grid_result = grid_search.fit(scale_train, y_train)\n",
    "# summarize results\n",
    "print(\"Best: %f using %s\" % (grid_result.best_score_, grid_result.best_params_))\n",
    "means = grid_result.cv_results_['mean_test_score']\n",
    "stds = grid_result.cv_results_['std_test_score']\n",
    "params = grid_result.cv_results_['params']\n",
    "for mean, stdev, param in zip(means, stds, params):\n",
    "    print(\"%f (%f) with: %r\" % (mean, stdev, param))"
   ]
  },
  {
   "cell_type": "code",
   "execution_count": 75,
   "id": "4e2e430b",
   "metadata": {},
   "outputs": [
    {
     "data": {
      "text/plain": [
       "LogisticRegression(C=0.001, class_weight='balanced', solver='newton-cg')"
      ]
     },
     "execution_count": 75,
     "metadata": {},
     "output_type": "execute_result"
    }
   ],
   "source": [
    "model_log = LogisticRegression(class_weight=\"balanced\", C= 0.001, penalty = \"l2\", solver = \"newton-cg\")\n",
    "model_log.fit(scale_train,y_train)"
   ]
  },
  {
   "cell_type": "code",
   "execution_count": 76,
   "id": "4d75db8c",
   "metadata": {},
   "outputs": [
    {
     "data": {
      "text/plain": [
       "array([1, 1, 1, ..., 0, 1, 1], dtype=int64)"
      ]
     },
     "execution_count": 76,
     "metadata": {},
     "output_type": "execute_result"
    }
   ],
   "source": [
    "y_pred = model_log.predict(scale_test)\n",
    "y_pred"
   ]
  },
  {
   "cell_type": "code",
   "execution_count": 83,
   "id": "42f649f5",
   "metadata": {},
   "outputs": [
    {
     "data": {
      "text/plain": [
       "0    1140\n",
       "1     855\n",
       "dtype: int64"
      ]
     },
     "execution_count": 83,
     "metadata": {},
     "output_type": "execute_result"
    }
   ],
   "source": [
    "pd.Series(y_pred).value_counts()"
   ]
  },
  {
   "cell_type": "code",
   "execution_count": 84,
   "id": "9e29497a",
   "metadata": {},
   "outputs": [
    {
     "name": "stdout",
     "output_type": "stream",
     "text": [
      "0.5646016009166281\n"
     ]
    }
   ],
   "source": [
    "from sklearn.metrics import f1_score\n",
    "print(f1_score(y_test,y_pred,average='macro'))"
   ]
  },
  {
   "cell_type": "code",
   "execution_count": 85,
   "id": "51378e3a",
   "metadata": {},
   "outputs": [
    {
     "name": "stdout",
     "output_type": "stream",
     "text": [
      "              precision    recall  f1-score   support\n",
      "\n",
      "           0       0.84      0.62      0.71      1534\n",
      "           1       0.32      0.59      0.42       461\n",
      "\n",
      "    accuracy                           0.62      1995\n",
      "   macro avg       0.58      0.61      0.56      1995\n",
      "weighted avg       0.72      0.62      0.64      1995\n",
      "\n"
     ]
    }
   ],
   "source": [
    "print(classification_report(y_test,y_pred))"
   ]
  },
  {
   "cell_type": "code",
   "execution_count": null,
   "id": "e6d500fb",
   "metadata": {},
   "outputs": [],
   "source": []
  },
  {
   "cell_type": "code",
   "execution_count": 93,
   "id": "78e59eb2",
   "metadata": {},
   "outputs": [
    {
     "data": {
      "text/plain": [
       "LogisticRegression(C=0.1, class_weight='balanced', solver='newton-cg')"
      ]
     },
     "execution_count": 93,
     "metadata": {},
     "output_type": "execute_result"
    }
   ],
   "source": [
    "model_log = LogisticRegression(class_weight=\"balanced\", C=0.1, penalty = \"l2\", solver = \"newton-cg\")\n",
    "model_log.fit(scale_all,Y)"
   ]
  },
  {
   "cell_type": "code",
   "execution_count": 94,
   "id": "42b89ec5",
   "metadata": {},
   "outputs": [],
   "source": [
    "import pickle\n",
    "filename = \"logistic.sav\"\n",
    "pickle.dump(model_log, open(filename, 'wb'))"
   ]
  },
  {
   "cell_type": "code",
   "execution_count": null,
   "id": "23eb0c2f",
   "metadata": {},
   "outputs": [],
   "source": []
  },
  {
   "cell_type": "code",
   "execution_count": null,
   "id": "be9e8795",
   "metadata": {},
   "outputs": [],
   "source": []
  },
  {
   "cell_type": "code",
   "execution_count": null,
   "id": "730df457",
   "metadata": {},
   "outputs": [],
   "source": []
  },
  {
   "cell_type": "code",
   "execution_count": 102,
   "id": "c0eb775a",
   "metadata": {},
   "outputs": [],
   "source": []
  },
  {
   "cell_type": "code",
   "execution_count": 104,
   "id": "3d0724a3",
   "metadata": {},
   "outputs": [],
   "source": [
    "filename = \"dt.sav\"\n",
    "pickle.dump(dt_res, open(filename,\"wb\"))"
   ]
  },
  {
   "cell_type": "code",
   "execution_count": null,
   "id": "d513aa5f",
   "metadata": {},
   "outputs": [],
   "source": []
  }
 ],
 "metadata": {
  "kernelspec": {
   "display_name": "Python 3 (ipykernel)",
   "language": "python",
   "name": "python3"
  },
  "language_info": {
   "codemirror_mode": {
    "name": "ipython",
    "version": 3
   },
   "file_extension": ".py",
   "mimetype": "text/x-python",
   "name": "python",
   "nbconvert_exporter": "python",
   "pygments_lexer": "ipython3",
   "version": "3.9.1"
  }
 },
 "nbformat": 4,
 "nbformat_minor": 5
}
